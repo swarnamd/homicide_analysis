{
 "cells": [
  {
   "cell_type": "markdown",
   "metadata": {},
   "source": [
    "# Data Understanding\n",
    "\n",
    "The Homicide Reports, 1980-2014 dataset is very large. In total, there are 638,454 instances of reported homicides. The dataset is a part of the Murder Accountability Project, which is a nonprofit group organized in 2015 and dedicated to educate Americans on the importance of accurately accounting for unsolved homicides within the United States.In our project, we have used the homicide dataset from 1980 to 2014 to predict the perpetrator's sex, age and race. First we analyze the dataset in terms of State, Year, characteristics of victims and perpetrators, Relationship and Weapon.\n",
    "\n",
    "\n",
    "The goal of our project is to help FBI to narrow down the search range for the perpetrators to solve the homicides more efficiently and make easier the labour of geographical plotting. This data set has 638454 instances and 24 attribute The actual data is from the FBI’s Uniform Crime Report’s “Return A” showing summaries of total homicides committed and cleared through arrest for the years 1980 through 2014. To start off, here is the structure and summary of the data:\n"
   ]
  },
  {
   "cell_type": "code",
   "execution_count": 291,
   "metadata": {
    "collapsed": true
   },
   "outputs": [],
   "source": [
    "import numpy as np # linear algebra\n",
    "import pandas as pd # data processing, CSV file I/O (e.g. pd.read_csv)\n",
    "import matplotlib.pyplot as plt\n",
    "import seaborn as sns\n",
    "%matplotlib inline\n",
    "\n"
   ]
  },
  {
   "cell_type": "code",
   "execution_count": 292,
   "metadata": {
    "collapsed": false
   },
   "outputs": [
    {
     "data": {
      "text/html": [
       "<div>\n",
       "<table border=\"1\" class=\"dataframe\">\n",
       "  <thead>\n",
       "    <tr style=\"text-align: right;\">\n",
       "      <th></th>\n",
       "      <th>Record ID</th>\n",
       "      <th>Agency Code</th>\n",
       "      <th>Agency Name</th>\n",
       "      <th>Agency Type</th>\n",
       "      <th>City</th>\n",
       "      <th>State</th>\n",
       "      <th>Year</th>\n",
       "      <th>Month</th>\n",
       "      <th>Incident</th>\n",
       "      <th>Crime Type</th>\n",
       "      <th>...</th>\n",
       "      <th>Victim Ethnicity</th>\n",
       "      <th>Perpetrator Sex</th>\n",
       "      <th>Perpetrator Age</th>\n",
       "      <th>Perpetrator Race</th>\n",
       "      <th>Perpetrator Ethnicity</th>\n",
       "      <th>Relationship</th>\n",
       "      <th>Weapon</th>\n",
       "      <th>Victim Count</th>\n",
       "      <th>Perpetrator Count</th>\n",
       "      <th>Record Source</th>\n",
       "    </tr>\n",
       "  </thead>\n",
       "  <tbody>\n",
       "    <tr>\n",
       "      <th>0</th>\n",
       "      <td>1</td>\n",
       "      <td>AK00101</td>\n",
       "      <td>Anchorage</td>\n",
       "      <td>Municipal Police</td>\n",
       "      <td>Anchorage</td>\n",
       "      <td>Alaska</td>\n",
       "      <td>1980</td>\n",
       "      <td>January</td>\n",
       "      <td>1</td>\n",
       "      <td>Murder or Manslaughter</td>\n",
       "      <td>...</td>\n",
       "      <td>Unknown</td>\n",
       "      <td>Male</td>\n",
       "      <td>15</td>\n",
       "      <td>Native American/Alaska Native</td>\n",
       "      <td>Unknown</td>\n",
       "      <td>Acquaintance</td>\n",
       "      <td>Blunt Object</td>\n",
       "      <td>0</td>\n",
       "      <td>0</td>\n",
       "      <td>FBI</td>\n",
       "    </tr>\n",
       "    <tr>\n",
       "      <th>1</th>\n",
       "      <td>2</td>\n",
       "      <td>AK00101</td>\n",
       "      <td>Anchorage</td>\n",
       "      <td>Municipal Police</td>\n",
       "      <td>Anchorage</td>\n",
       "      <td>Alaska</td>\n",
       "      <td>1980</td>\n",
       "      <td>March</td>\n",
       "      <td>1</td>\n",
       "      <td>Murder or Manslaughter</td>\n",
       "      <td>...</td>\n",
       "      <td>Unknown</td>\n",
       "      <td>Male</td>\n",
       "      <td>42</td>\n",
       "      <td>White</td>\n",
       "      <td>Unknown</td>\n",
       "      <td>Acquaintance</td>\n",
       "      <td>Strangulation</td>\n",
       "      <td>0</td>\n",
       "      <td>0</td>\n",
       "      <td>FBI</td>\n",
       "    </tr>\n",
       "    <tr>\n",
       "      <th>2</th>\n",
       "      <td>3</td>\n",
       "      <td>AK00101</td>\n",
       "      <td>Anchorage</td>\n",
       "      <td>Municipal Police</td>\n",
       "      <td>Anchorage</td>\n",
       "      <td>Alaska</td>\n",
       "      <td>1980</td>\n",
       "      <td>March</td>\n",
       "      <td>2</td>\n",
       "      <td>Murder or Manslaughter</td>\n",
       "      <td>...</td>\n",
       "      <td>Unknown</td>\n",
       "      <td>Unknown</td>\n",
       "      <td>0</td>\n",
       "      <td>Unknown</td>\n",
       "      <td>Unknown</td>\n",
       "      <td>Unknown</td>\n",
       "      <td>Unknown</td>\n",
       "      <td>0</td>\n",
       "      <td>0</td>\n",
       "      <td>FBI</td>\n",
       "    </tr>\n",
       "    <tr>\n",
       "      <th>3</th>\n",
       "      <td>4</td>\n",
       "      <td>AK00101</td>\n",
       "      <td>Anchorage</td>\n",
       "      <td>Municipal Police</td>\n",
       "      <td>Anchorage</td>\n",
       "      <td>Alaska</td>\n",
       "      <td>1980</td>\n",
       "      <td>April</td>\n",
       "      <td>1</td>\n",
       "      <td>Murder or Manslaughter</td>\n",
       "      <td>...</td>\n",
       "      <td>Unknown</td>\n",
       "      <td>Male</td>\n",
       "      <td>42</td>\n",
       "      <td>White</td>\n",
       "      <td>Unknown</td>\n",
       "      <td>Acquaintance</td>\n",
       "      <td>Strangulation</td>\n",
       "      <td>0</td>\n",
       "      <td>0</td>\n",
       "      <td>FBI</td>\n",
       "    </tr>\n",
       "    <tr>\n",
       "      <th>4</th>\n",
       "      <td>5</td>\n",
       "      <td>AK00101</td>\n",
       "      <td>Anchorage</td>\n",
       "      <td>Municipal Police</td>\n",
       "      <td>Anchorage</td>\n",
       "      <td>Alaska</td>\n",
       "      <td>1980</td>\n",
       "      <td>April</td>\n",
       "      <td>2</td>\n",
       "      <td>Murder or Manslaughter</td>\n",
       "      <td>...</td>\n",
       "      <td>Unknown</td>\n",
       "      <td>Unknown</td>\n",
       "      <td>0</td>\n",
       "      <td>Unknown</td>\n",
       "      <td>Unknown</td>\n",
       "      <td>Unknown</td>\n",
       "      <td>Unknown</td>\n",
       "      <td>0</td>\n",
       "      <td>1</td>\n",
       "      <td>FBI</td>\n",
       "    </tr>\n",
       "  </tbody>\n",
       "</table>\n",
       "<p>5 rows × 24 columns</p>\n",
       "</div>"
      ],
      "text/plain": [
       "   Record ID Agency Code Agency Name       Agency Type       City   State  \\\n",
       "0          1     AK00101   Anchorage  Municipal Police  Anchorage  Alaska   \n",
       "1          2     AK00101   Anchorage  Municipal Police  Anchorage  Alaska   \n",
       "2          3     AK00101   Anchorage  Municipal Police  Anchorage  Alaska   \n",
       "3          4     AK00101   Anchorage  Municipal Police  Anchorage  Alaska   \n",
       "4          5     AK00101   Anchorage  Municipal Police  Anchorage  Alaska   \n",
       "\n",
       "   Year    Month  Incident              Crime Type      ...       \\\n",
       "0  1980  January         1  Murder or Manslaughter      ...        \n",
       "1  1980    March         1  Murder or Manslaughter      ...        \n",
       "2  1980    March         2  Murder or Manslaughter      ...        \n",
       "3  1980    April         1  Murder or Manslaughter      ...        \n",
       "4  1980    April         2  Murder or Manslaughter      ...        \n",
       "\n",
       "  Victim Ethnicity Perpetrator Sex  Perpetrator Age  \\\n",
       "0          Unknown            Male               15   \n",
       "1          Unknown            Male               42   \n",
       "2          Unknown         Unknown                0   \n",
       "3          Unknown            Male               42   \n",
       "4          Unknown         Unknown                0   \n",
       "\n",
       "                Perpetrator Race Perpetrator Ethnicity  Relationship  \\\n",
       "0  Native American/Alaska Native               Unknown  Acquaintance   \n",
       "1                          White               Unknown  Acquaintance   \n",
       "2                        Unknown               Unknown       Unknown   \n",
       "3                          White               Unknown  Acquaintance   \n",
       "4                        Unknown               Unknown       Unknown   \n",
       "\n",
       "          Weapon Victim Count Perpetrator Count Record Source  \n",
       "0   Blunt Object            0                 0           FBI  \n",
       "1  Strangulation            0                 0           FBI  \n",
       "2        Unknown            0                 0           FBI  \n",
       "3  Strangulation            0                 0           FBI  \n",
       "4        Unknown            0                 1           FBI  \n",
       "\n",
       "[5 rows x 24 columns]"
      ]
     },
     "execution_count": 292,
     "metadata": {},
     "output_type": "execute_result"
    }
   ],
   "source": [
    "df = pd.read_csv(r'C:\\Users\\Namrata\\Desktop\\ITU\\Fall_2017\\Data_Science\\u-s-homicide-reports-1980-2014\\data.csv', decimal=',')\n",
    "df.head(5)"
   ]
  },
  {
   "cell_type": "code",
   "execution_count": 293,
   "metadata": {
    "collapsed": false
   },
   "outputs": [
    {
     "data": {
      "text/plain": [
       "(638454, 24)"
      ]
     },
     "execution_count": 293,
     "metadata": {},
     "output_type": "execute_result"
    }
   ],
   "source": [
    "df.shape"
   ]
  },
  {
   "cell_type": "code",
   "execution_count": 294,
   "metadata": {
    "collapsed": false
   },
   "outputs": [
    {
     "data": {
      "text/plain": [
       "<bound method DataFrame.describe of         Record ID Agency Code                Agency Name       Agency Type  \\\n",
       "0               1     AK00101                  Anchorage  Municipal Police   \n",
       "1               2     AK00101                  Anchorage  Municipal Police   \n",
       "2               3     AK00101                  Anchorage  Municipal Police   \n",
       "3               4     AK00101                  Anchorage  Municipal Police   \n",
       "4               5     AK00101                  Anchorage  Municipal Police   \n",
       "5               6     AK00101                  Anchorage  Municipal Police   \n",
       "6               7     AK00101                  Anchorage  Municipal Police   \n",
       "7               8     AK00101                  Anchorage  Municipal Police   \n",
       "8               9     AK00101                  Anchorage  Municipal Police   \n",
       "9              10     AK00101                  Anchorage  Municipal Police   \n",
       "10             11     AK00101                  Anchorage  Municipal Police   \n",
       "11             12     AK00101                  Anchorage  Municipal Police   \n",
       "12             13     AK00101                  Anchorage  Municipal Police   \n",
       "13             14     AK00101                  Anchorage  Municipal Police   \n",
       "14             15     AK00101                  Anchorage  Municipal Police   \n",
       "15             16     AK00101                  Anchorage  Municipal Police   \n",
       "16             17     AK00101                  Anchorage  Municipal Police   \n",
       "17             18     AK00103                     Juneau  Municipal Police   \n",
       "18             19     AK00106                       Nome  Municipal Police   \n",
       "19             20     AK00113                     Bethel  Municipal Police   \n",
       "20             21     AK00118        North Slope Borough     County Police   \n",
       "21             22     AK00118        North Slope Borough     County Police   \n",
       "22             23     AK00118        North Slope Borough     County Police   \n",
       "23             24     AK00118        North Slope Borough     County Police   \n",
       "24             25     AK00118        North Slope Borough     County Police   \n",
       "25             26     AK00123                      Kenai  Municipal Police   \n",
       "26             27     AKASP00        Alaska State Police      State Police   \n",
       "27             28     AKASP00        Alaska State Police      State Police   \n",
       "28             29     AKASP00        Alaska State Police      State Police   \n",
       "29             30     AKASP00        Alaska State Police      State Police   \n",
       "...           ...         ...                        ...               ...   \n",
       "638424     638425     WVWSP21     State Police: Kingwood      State Police   \n",
       "638425     638426     WVWSP24     State Police: Danville      State Police   \n",
       "638426     638427     WVWSP29   State Police: Morgantown      State Police   \n",
       "638427     638428     WVWSP29   State Police: Morgantown      State Police   \n",
       "638428     638429     WVWSP33  State Police: Parkersburg      State Police   \n",
       "638429     638430     WVWSP39    State Police: Princeton      State Police   \n",
       "638430     638431     WVWSP49       State Police: Sutton      State Police   \n",
       "638431     638432     WVWSP52        State Police: Wayne      State Police   \n",
       "638432     638433     WVWSP52        State Police: Wayne      State Police   \n",
       "638433     638434     WVWSP53   State Police: Upperglade      State Police   \n",
       "638434     638435     WVWSP55        State Police: Welch      State Police   \n",
       "638435     638436     WVWSP55        State Police: Welch      State Police   \n",
       "638436     638437     WVWSP60   State Police: Williamson      State Police   \n",
       "638437     638438     WVWSP65                Sp: Hundred      State Police   \n",
       "638438     638439     WVWSP65                Sp: Hundred      State Police   \n",
       "638439     638440     WVWSP65                Sp: Hundred      State Police   \n",
       "638440     638441     WY00101                    Laramie  Municipal Police   \n",
       "638441     638442     WY00300            Campbell County           Sheriff   \n",
       "638442     638443     WY01100             Laramie County           Sheriff   \n",
       "638443     638444     WY01101                   Cheyenne  Municipal Police   \n",
       "638444     638445     WY01101                   Cheyenne  Municipal Police   \n",
       "638445     638446     WY01200             Lincoln County           Sheriff   \n",
       "638446     638447     WY01300             Natrona County           Sheriff   \n",
       "638447     638448     WY01301                     Casper  Municipal Police   \n",
       "638448     638449     WY01301                     Casper  Municipal Police   \n",
       "638449     638450     WY01500                Park County           Sheriff   \n",
       "638450     638451     WY01700            Sheridan County           Sheriff   \n",
       "638451     638452     WY01701                   Sheridan  Municipal Police   \n",
       "638452     638453     WY01800            Sublette County           Sheriff   \n",
       "638453     638454     WY01902               Rock Springs  Municipal Police   \n",
       "\n",
       "                   City          State  Year      Month  Incident  \\\n",
       "0             Anchorage         Alaska  1980    January         1   \n",
       "1             Anchorage         Alaska  1980      March         1   \n",
       "2             Anchorage         Alaska  1980      March         2   \n",
       "3             Anchorage         Alaska  1980      April         1   \n",
       "4             Anchorage         Alaska  1980      April         2   \n",
       "5             Anchorage         Alaska  1980        May         1   \n",
       "6             Anchorage         Alaska  1980        May         2   \n",
       "7             Anchorage         Alaska  1980       June         1   \n",
       "8             Anchorage         Alaska  1980       June         2   \n",
       "9             Anchorage         Alaska  1980       June         3   \n",
       "10            Anchorage         Alaska  1980       July         1   \n",
       "11            Anchorage         Alaska  1980       July         2   \n",
       "12            Anchorage         Alaska  1980       July         3   \n",
       "13            Anchorage         Alaska  1980     August         1   \n",
       "14            Anchorage         Alaska  1980     August         2   \n",
       "15            Anchorage         Alaska  1980     August         3   \n",
       "16            Anchorage         Alaska  1980   December         1   \n",
       "17               Juneau         Alaska  1980   November         1   \n",
       "18                 Nome         Alaska  1980       June         1   \n",
       "19               Bethel         Alaska  1980   February         1   \n",
       "20          North Slope         Alaska  1980     August         1   \n",
       "21          North Slope         Alaska  1980     August         1   \n",
       "22          North Slope         Alaska  1980       June         1   \n",
       "23          North Slope         Alaska  1980       July         1   \n",
       "24          North Slope         Alaska  1980     August         1   \n",
       "25      Kenai Peninsula         Alaska  1980   February         1   \n",
       "26               Juneau         Alaska  1980   February         1   \n",
       "27               Juneau         Alaska  1980   February         2   \n",
       "28               Juneau         Alaska  1980   February         3   \n",
       "29               Juneau         Alaska  1980      April         1   \n",
       "...                 ...            ...   ...        ...       ...   \n",
       "638424          Preston  West Virginia  2014      March         1   \n",
       "638425            Boone  West Virginia  2014    January         1   \n",
       "638426       Monongalia  West Virginia  2014   December         1   \n",
       "638427       Monongalia  West Virginia  2014   December         1   \n",
       "638428             Wood  West Virginia  2014    January         1   \n",
       "638429           Mercer  West Virginia  2014       June         1   \n",
       "638430          Braxton  West Virginia  2014    October         1   \n",
       "638431            Wayne  West Virginia  2014       June         1   \n",
       "638432            Wayne  West Virginia  2014   December         1   \n",
       "638433          Webster  West Virginia  2014      March         1   \n",
       "638434         McDowell  West Virginia  2014    October         1   \n",
       "638435         McDowell  West Virginia  2014    October         1   \n",
       "638436            Mingo  West Virginia  2014       July         1   \n",
       "638437             Wood  West Virginia  2014    January         1   \n",
       "638438             Wood  West Virginia  2014    January         2   \n",
       "638439             Wood  West Virginia  2014    January         3   \n",
       "638440           Albany        Wyoming  2014   November         1   \n",
       "638441         Campbell        Wyoming  2014   February         1   \n",
       "638442          Laramie        Wyoming  2014       July         1   \n",
       "638443          Laramie        Wyoming  2014    October         1   \n",
       "638444          Laramie        Wyoming  2014   December         1   \n",
       "638445          Lincoln        Wyoming  2014   December         1   \n",
       "638446          Natrona        Wyoming  2014  September         1   \n",
       "638447          Natrona        Wyoming  2014       June         1   \n",
       "638448          Natrona        Wyoming  2014     August         1   \n",
       "638449             Park        Wyoming  2014    January         1   \n",
       "638450         Sheridan        Wyoming  2014       June         1   \n",
       "638451         Sheridan        Wyoming  2014  September         1   \n",
       "638452         Sublette        Wyoming  2014   December         1   \n",
       "638453       Sweetwater        Wyoming  2014  September         1   \n",
       "\n",
       "                        Crime Type      ...      Victim Ethnicity  \\\n",
       "0           Murder or Manslaughter      ...               Unknown   \n",
       "1           Murder or Manslaughter      ...               Unknown   \n",
       "2           Murder or Manslaughter      ...               Unknown   \n",
       "3           Murder or Manslaughter      ...               Unknown   \n",
       "4           Murder or Manslaughter      ...               Unknown   \n",
       "5           Murder or Manslaughter      ...               Unknown   \n",
       "6           Murder or Manslaughter      ...               Unknown   \n",
       "7           Murder or Manslaughter      ...               Unknown   \n",
       "8           Murder or Manslaughter      ...               Unknown   \n",
       "9           Murder or Manslaughter      ...               Unknown   \n",
       "10          Murder or Manslaughter      ...               Unknown   \n",
       "11          Murder or Manslaughter      ...               Unknown   \n",
       "12          Murder or Manslaughter      ...               Unknown   \n",
       "13          Murder or Manslaughter      ...               Unknown   \n",
       "14          Murder or Manslaughter      ...               Unknown   \n",
       "15          Murder or Manslaughter      ...               Unknown   \n",
       "16          Murder or Manslaughter      ...               Unknown   \n",
       "17          Murder or Manslaughter      ...               Unknown   \n",
       "18          Murder or Manslaughter      ...               Unknown   \n",
       "19          Murder or Manslaughter      ...               Unknown   \n",
       "20          Murder or Manslaughter      ...               Unknown   \n",
       "21          Murder or Manslaughter      ...               Unknown   \n",
       "22          Murder or Manslaughter      ...               Unknown   \n",
       "23      Manslaughter by Negligence      ...               Unknown   \n",
       "24          Murder or Manslaughter      ...               Unknown   \n",
       "25          Murder or Manslaughter      ...               Unknown   \n",
       "26          Murder or Manslaughter      ...               Unknown   \n",
       "27          Murder or Manslaughter      ...               Unknown   \n",
       "28          Murder or Manslaughter      ...               Unknown   \n",
       "29          Murder or Manslaughter      ...               Unknown   \n",
       "...                            ...      ...                   ...   \n",
       "638424      Murder or Manslaughter      ...               Unknown   \n",
       "638425      Murder or Manslaughter      ...               Unknown   \n",
       "638426      Murder or Manslaughter      ...               Unknown   \n",
       "638427      Murder or Manslaughter      ...               Unknown   \n",
       "638428      Murder or Manslaughter      ...               Unknown   \n",
       "638429      Murder or Manslaughter      ...               Unknown   \n",
       "638430      Murder or Manslaughter      ...               Unknown   \n",
       "638431      Murder or Manslaughter      ...               Unknown   \n",
       "638432      Murder or Manslaughter      ...               Unknown   \n",
       "638433      Murder or Manslaughter      ...               Unknown   \n",
       "638434      Murder or Manslaughter      ...               Unknown   \n",
       "638435      Murder or Manslaughter      ...               Unknown   \n",
       "638436      Murder or Manslaughter      ...               Unknown   \n",
       "638437      Murder or Manslaughter      ...               Unknown   \n",
       "638438      Murder or Manslaughter      ...               Unknown   \n",
       "638439      Murder or Manslaughter      ...               Unknown   \n",
       "638440      Murder or Manslaughter      ...               Unknown   \n",
       "638441      Murder or Manslaughter      ...          Not Hispanic   \n",
       "638442      Murder or Manslaughter      ...          Not Hispanic   \n",
       "638443      Murder or Manslaughter      ...               Unknown   \n",
       "638444      Murder or Manslaughter      ...              Hispanic   \n",
       "638445      Murder or Manslaughter      ...               Unknown   \n",
       "638446      Murder or Manslaughter      ...          Not Hispanic   \n",
       "638447      Murder or Manslaughter      ...          Not Hispanic   \n",
       "638448      Murder or Manslaughter      ...               Unknown   \n",
       "638449      Murder or Manslaughter      ...              Hispanic   \n",
       "638450      Murder or Manslaughter      ...               Unknown   \n",
       "638451      Murder or Manslaughter      ...               Unknown   \n",
       "638452      Murder or Manslaughter      ...          Not Hispanic   \n",
       "638453      Murder or Manslaughter      ...          Not Hispanic   \n",
       "\n",
       "       Perpetrator Sex  Perpetrator Age               Perpetrator Race  \\\n",
       "0                 Male               15  Native American/Alaska Native   \n",
       "1                 Male               42                          White   \n",
       "2              Unknown                0                        Unknown   \n",
       "3                 Male               42                          White   \n",
       "4              Unknown                0                        Unknown   \n",
       "5                 Male               36                          White   \n",
       "6                 Male               27                          Black   \n",
       "7                 Male               35                          White   \n",
       "8              Unknown                0                        Unknown   \n",
       "9                 Male               40                        Unknown   \n",
       "10             Unknown                0                        Unknown   \n",
       "11                Male               49                          White   \n",
       "12                Male               39                          Black   \n",
       "13                Male               49                          White   \n",
       "14             Unknown                0                        Unknown   \n",
       "15              Female               29                          Black   \n",
       "16                Male               19                        Unknown   \n",
       "17                Male               23  Native American/Alaska Native   \n",
       "18                Male               33  Native American/Alaska Native   \n",
       "19                Male               35  Native American/Alaska Native   \n",
       "20                Male               29                        Unknown   \n",
       "21                Male               29                        Unknown   \n",
       "22                Male               26                        Unknown   \n",
       "23                Male               41                        Unknown   \n",
       "24                Male               29                        Unknown   \n",
       "25                Male               42                          White   \n",
       "26             Unknown                0                        Unknown   \n",
       "27              Female               28  Native American/Alaska Native   \n",
       "28              Female               36  Native American/Alaska Native   \n",
       "29                Male               61  Native American/Alaska Native   \n",
       "...                ...              ...                            ...   \n",
       "638424          Female               23                          White   \n",
       "638425            Male               45                          White   \n",
       "638426            Male               39                          White   \n",
       "638427            Male               39                          White   \n",
       "638428            Male               23                          White   \n",
       "638429            Male               18                          White   \n",
       "638430            Male               29                          White   \n",
       "638431            Male               22                          White   \n",
       "638432            Male               24                          White   \n",
       "638433          Female               30                          White   \n",
       "638434          Female               35                          White   \n",
       "638435          Female               35                          White   \n",
       "638436         Unknown                0                        Unknown   \n",
       "638437         Unknown               30                        Unknown   \n",
       "638438         Unknown               50                        Unknown   \n",
       "638439            Male               25                          White   \n",
       "638440            Male               20                          White   \n",
       "638441            Male               15                          White   \n",
       "638442            Male               61                          White   \n",
       "638443            Male               16  Native American/Alaska Native   \n",
       "638444            Male               35                          White   \n",
       "638445            Male               26                          White   \n",
       "638446            Male               48                          White   \n",
       "638447            Male               22                          White   \n",
       "638448            Male               67                          Black   \n",
       "638449         Unknown                0                        Unknown   \n",
       "638450            Male               57                          White   \n",
       "638451          Female               22         Asian/Pacific Islander   \n",
       "638452            Male               31                          White   \n",
       "638453          Female               24                          White   \n",
       "\n",
       "       Perpetrator Ethnicity  Relationship         Weapon Victim Count  \\\n",
       "0                    Unknown  Acquaintance   Blunt Object            0   \n",
       "1                    Unknown  Acquaintance  Strangulation            0   \n",
       "2                    Unknown       Unknown        Unknown            0   \n",
       "3                    Unknown  Acquaintance  Strangulation            0   \n",
       "4                    Unknown       Unknown        Unknown            0   \n",
       "5                    Unknown  Acquaintance          Rifle            0   \n",
       "6                    Unknown          Wife          Knife            0   \n",
       "7                    Unknown          Wife          Knife            0   \n",
       "8                    Unknown       Unknown        Firearm            0   \n",
       "9                    Unknown       Unknown        Firearm            0   \n",
       "10                   Unknown       Unknown        Unknown            0   \n",
       "11                   Unknown      Stranger        Shotgun            0   \n",
       "12                   Unknown    Girlfriend   Blunt Object            0   \n",
       "13                   Unknown       Unknown           Fall            0   \n",
       "14                   Unknown       Unknown        Handgun            0   \n",
       "15                   Unknown    Ex-Husband        Handgun            0   \n",
       "16                   Unknown  Acquaintance          Knife            0   \n",
       "17                   Unknown       Brother   Blunt Object            0   \n",
       "18                   Unknown  Acquaintance        Handgun            0   \n",
       "19                   Unknown       Brother        Handgun            0   \n",
       "20                   Unknown  Stepdaughter          Rifle            2   \n",
       "21                   Unknown  Stepdaughter          Rifle            2   \n",
       "22                   Unknown  Acquaintance          Knife            0   \n",
       "23                   Unknown          Wife   Blunt Object            0   \n",
       "24                   Unknown  Stepdaughter          Rifle            2   \n",
       "25                   Unknown          Wife        Handgun            0   \n",
       "26                   Unknown       Unknown        Handgun            0   \n",
       "27                   Unknown       Husband        Handgun            0   \n",
       "28                   Unknown       Brother          Rifle            0   \n",
       "29                   Unknown       Unknown        Shotgun            0   \n",
       "...                      ...           ...            ...          ...   \n",
       "638424               Unknown       Husband        Handgun            0   \n",
       "638425               Unknown          Wife        Handgun            0   \n",
       "638426               Unknown  Acquaintance        Handgun            1   \n",
       "638427               Unknown  Acquaintance        Handgun            1   \n",
       "638428               Unknown      Stranger        Handgun            0   \n",
       "638429               Unknown      Stranger        Handgun            0   \n",
       "638430               Unknown  Acquaintance   Blunt Object            0   \n",
       "638431               Unknown        Family   Blunt Object            0   \n",
       "638432               Unknown  Acquaintance          Knife            0   \n",
       "638433               Unknown        Friend        Unknown            0   \n",
       "638434               Unknown       Unknown        Firearm            1   \n",
       "638435               Unknown       Unknown        Firearm            1   \n",
       "638436               Unknown       Unknown          Drugs            0   \n",
       "638437               Unknown  Acquaintance          Knife            0   \n",
       "638438               Unknown  Acquaintance          Knife            0   \n",
       "638439               Unknown  Acquaintance          Knife            0   \n",
       "638440               Unknown      Stranger   Blunt Object            0   \n",
       "638441          Not Hispanic  Acquaintance        Handgun            0   \n",
       "638442          Not Hispanic          Wife        Shotgun            0   \n",
       "638443               Unknown  Acquaintance        Handgun            0   \n",
       "638444               Unknown  Acquaintance    Suffocation            0   \n",
       "638445               Unknown  Acquaintance        Handgun            0   \n",
       "638446          Not Hispanic        Mother        Handgun            0   \n",
       "638447               Unknown    Girlfriend        Handgun            0   \n",
       "638448               Unknown        Friend        Firearm            0   \n",
       "638449               Unknown       Unknown        Handgun            0   \n",
       "638450               Unknown  Acquaintance        Handgun            0   \n",
       "638451               Unknown      Daughter    Suffocation            0   \n",
       "638452          Not Hispanic      Stranger          Knife            0   \n",
       "638453          Not Hispanic      Daughter   Blunt Object            0   \n",
       "\n",
       "       Perpetrator Count Record Source  \n",
       "0                      0           FBI  \n",
       "1                      0           FBI  \n",
       "2                      0           FBI  \n",
       "3                      0           FBI  \n",
       "4                      1           FBI  \n",
       "5                      0           FBI  \n",
       "6                      0           FBI  \n",
       "7                      0           FBI  \n",
       "8                      0           FBI  \n",
       "9                      1           FBI  \n",
       "10                     1           FBI  \n",
       "11                     0           FBI  \n",
       "12                     0           FBI  \n",
       "13                     0           FBI  \n",
       "14                     0           FBI  \n",
       "15                     0           FBI  \n",
       "16                     0           FBI  \n",
       "17                     1           FBI  \n",
       "18                     0           FBI  \n",
       "19                     0           FBI  \n",
       "20                     0           FBI  \n",
       "21                     0           FBI  \n",
       "22                     0           FBI  \n",
       "23                     0           FBI  \n",
       "24                     0           FBI  \n",
       "25                     0           FBI  \n",
       "26                     0           FBI  \n",
       "27                     0           FBI  \n",
       "28                     0           FBI  \n",
       "29                     0           FBI  \n",
       "...                  ...           ...  \n",
       "638424                 0           FBI  \n",
       "638425                 0           FBI  \n",
       "638426                 0           FBI  \n",
       "638427                 0           FBI  \n",
       "638428                 0           FBI  \n",
       "638429                 0           FBI  \n",
       "638430                 0           FBI  \n",
       "638431                 0           FBI  \n",
       "638432                 1           FBI  \n",
       "638433                 0           FBI  \n",
       "638434                 2           FBI  \n",
       "638435                 2           FBI  \n",
       "638436                 1           FBI  \n",
       "638437                 2           FBI  \n",
       "638438                 2           FBI  \n",
       "638439                 1           FBI  \n",
       "638440                 0           FBI  \n",
       "638441                 0           FBI  \n",
       "638442                 0           FBI  \n",
       "638443                 0           FBI  \n",
       "638444                 3           FBI  \n",
       "638445                 0           FBI  \n",
       "638446                 0           FBI  \n",
       "638447                 0           FBI  \n",
       "638448                 0           FBI  \n",
       "638449                 0           FBI  \n",
       "638450                 0           FBI  \n",
       "638451                 0           FBI  \n",
       "638452                 1           FBI  \n",
       "638453                 1           FBI  \n",
       "\n",
       "[638454 rows x 24 columns]>"
      ]
     },
     "execution_count": 294,
     "metadata": {},
     "output_type": "execute_result"
    }
   ],
   "source": [
    "df.describe"
   ]
  },
  {
   "cell_type": "code",
   "execution_count": 295,
   "metadata": {
    "collapsed": false
   },
   "outputs": [
    {
     "data": {
      "text/plain": [
       "Record ID                0\n",
       "Agency Code              0\n",
       "Agency Name              0\n",
       "Agency Type              0\n",
       "City                     0\n",
       "State                    0\n",
       "Year                     0\n",
       "Month                    0\n",
       "Incident                 0\n",
       "Crime Type               0\n",
       "Crime Solved             0\n",
       "Victim Sex               0\n",
       "Victim Age               0\n",
       "Victim Race              0\n",
       "Victim Ethnicity         0\n",
       "Perpetrator Sex          0\n",
       "Perpetrator Age          0\n",
       "Perpetrator Race         0\n",
       "Perpetrator Ethnicity    0\n",
       "Relationship             0\n",
       "Weapon                   0\n",
       "Victim Count             0\n",
       "Perpetrator Count        0\n",
       "Record Source            0\n",
       "dtype: int64"
      ]
     },
     "execution_count": 295,
     "metadata": {},
     "output_type": "execute_result"
    }
   ],
   "source": [
    "df.apply(lambda x: sum(x.isnull()),axis=0)"
   ]
  },
  {
   "cell_type": "raw",
   "metadata": {},
   "source": [
    "The records of homicide report looks clean and there is no missing values."
   ]
  },
  {
   "cell_type": "raw",
   "metadata": {},
   "source": [
    "In the dataset, there are 24 different variables. There is an ID field, which we won’t use because it isn’t needed. There is an agency code, agency name, and agency type which are all categorical variables used to identify the agency that recorded and handled the homicide case. There are also variables for City, State, Year, and Month which are also all categorical used to show location and time of the homicide report. There are variables for all of the information of the victim such as victim sex, victim age, victim race, and victim ethnicity. These variables will be very informative for finding trends the targeted victims for homicide. Contrary to that, the dataset also has the same variables but for the perpetrator, which will help us identify the type of people who usually commit homicide. The variables used for information of both the victim and perpetrator are all categorical. An interesting thing to note about the data on the perpetrator is that the only data we have are the instances of homicide that are solved. We also have relationship variable which is categorical, weapon variable which is also categorical, victim count variable which is numeric, and perpetrator count variable also numeric.. There are sixteen different weapons that are categorized in the weapon variable. This can be a very interesting variable because the weapon used for murder may give clues as to whether the murder was pre-empted or not, which can potentially be used to determine whether there is a chance for another homicide. Another important note is that victim/perpetrator count is the number of additional victims/perpetrators, not just the number of them (starts at 0, not 1). The dataset has an asymmetric binary crime solved variable, which is a 1 or 2, 1 meaning the crime was solved and 2 meaning that the crime went unsolved. This is our only variable which can truly be targeted for a supervised approach but since we are trying to analyze more than just if the crime was solved, we will use supervised and unsupervised techniques for the data. The dataset gives us plenty of information to analyze trends in the homicide reports and potentially come up with predictions about future homicides/homicide report"
   ]
  },
  {
   "cell_type": "raw",
   "metadata": {},
   "source": [
    "Also we want to look at the incidents per state and find what states had the highest crime rates. Overall, we found that California, New York, and Texas had the highest crime rates compared to all other states."
   ]
  },
  {
   "cell_type": "code",
   "execution_count": 296,
   "metadata": {
    "collapsed": false
   },
   "outputs": [
    {
     "name": "stdout",
     "output_type": "stream",
     "text": [
      "Axes(0.125,0.125;0.775x0.755)\n"
     ]
    },
    {
     "data": {
      "image/png": "[encoded data removed]",
      "text/plain": [
       "<matplotlib.figure.Figure at 0x640406d8>"
      ]
     },
     "metadata": {},
     "output_type": "display_data"
    }
   ],
   "source": [
    "#Crimes by State\n",
    "state = pd.DataFrame(df, columns = ['State']) \n",
    "count_states = state.stack().value_counts()\n",
    "states = count_states.sort_index(axis=0, ascending=False)\n",
    "#plot the total of homicides\n",
    "print(states.plot(kind='barh', fontsize=10,  width=0.5,  figsize=(10, 10), title='Homicides  by State between 1980 and 2016'))"
   ]
  },
  {
   "cell_type": "code",
   "execution_count": 297,
   "metadata": {
    "collapsed": false
   },
   "outputs": [
    {
     "data": {
      "text/plain": [
       "Los Angeles    44511\n",
       "New York       38431\n",
       "Cook           22383\n",
       "Wayne          19904\n",
       "Harris         16331\n",
       "Name: City, dtype: int64"
      ]
     },
     "execution_count": 297,
     "metadata": {},
     "output_type": "execute_result"
    }
   ],
   "source": [
    "#Top cities with maximum crime incidences reported\n",
    "df.City.value_counts()[:5]"
   ]
  },
  {
   "cell_type": "code",
   "execution_count": null,
   "metadata": {
    "collapsed": false
   },
   "outputs": [],
   "source": []
  },
  {
   "cell_type": "code",
   "execution_count": 298,
   "metadata": {
    "collapsed": false
   },
   "outputs": [
    {
     "data": {
      "image/png": "[encoded data removed]",
      "text/plain": [
       "<matplotlib.figure.Figure at 0x644dfc88>"
      ]
     },
     "metadata": {},
     "output_type": "display_data"
    }
   ],
   "source": [
    "#Cities with highest counts of crimes reported\n",
    "city_count = df.City.value_counts()[:10]\n",
    "ax = city_count.plot(kind = 'bar', rot = 35, title = 'Cities with highest number of crime incidents reported')"
   ]
  },
  {
   "cell_type": "raw",
   "metadata": {},
   "source": [
    "We calculate the number of total homicides in each state and plot it on the map showing in Figure 1. From Figure 1, we can get that top 5 states with high total number of homicides are: California, Texas, New York, Florida, Michigan."
   ]
  },
  {
   "cell_type": "code",
   "execution_count": 299,
   "metadata": {
    "collapsed": false
   },
   "outputs": [
    {
     "data": {
      "text/plain": [
       "California    99783\n",
       "Texas         62095\n",
       "New York      49268\n",
       "Florida       37164\n",
       "Michigan      28448\n",
       "Name: State, dtype: int64"
      ]
     },
     "execution_count": 299,
     "metadata": {},
     "output_type": "execute_result"
    }
   ],
   "source": [
    "#Top 10 states with reported crime\n",
    "df.State.value_counts()[:5]"
   ]
  },
  {
   "cell_type": "code",
   "execution_count": 300,
   "metadata": {
    "collapsed": false
   },
   "outputs": [
    {
     "data": {
      "image/png": "[encoded data removed]",
      "text/plain": [
       "<matplotlib.figure.Figure at 0x3f1feac8>"
      ]
     },
     "metadata": {},
     "output_type": "display_data"
    }
   ],
   "source": [
    "#State with highest crime reported\n",
    "state_count = df.State.value_counts()[:10]\n",
    "ax = state_count.plot(kind = 'bar', rot = 35, title = 'States with highest number of crime incidents reported')"
   ]
  },
  {
   "cell_type": "code",
   "execution_count": 301,
   "metadata": {
    "collapsed": false
   },
   "outputs": [
    {
     "data": {
      "text/plain": [
       "Murder or Manslaughter        629338\n",
       "Manslaughter by Negligence      9116\n",
       "Name: Crime Type, dtype: int64"
      ]
     },
     "execution_count": 301,
     "metadata": {},
     "output_type": "execute_result"
    }
   ],
   "source": [
    "#type of manslaughter\n",
    "df['Crime Type'].value_counts()"
   ]
  },
  {
   "cell_type": "raw",
   "metadata": {},
   "source": []
  },
  {
   "cell_type": "code",
   "execution_count": null,
   "metadata": {
    "collapsed": false
   },
   "outputs": [],
   "source": []
  },
  {
   "cell_type": "code",
   "execution_count": 285,
   "metadata": {
    "collapsed": false
   },
   "outputs": [
    {
     "data": {
      "text/plain": [
       "<matplotlib.text.Text at 0x3d6ebd30>"
      ]
     },
     "execution_count": 285,
     "metadata": {},
     "output_type": "execute_result"
    },
    {
     "data": {
      "image/png": "[encoded data removed]",
      "text/plain": [
       "<matplotlib.figure.Figure at 0x40072358>"
      ]
     },
     "metadata": {},
     "output_type": "display_data"
    }
   ],
   "source": [
    "#Race of Victims\n",
    "race = pd.DataFrame(df, columns = ['Victim Race']) \n",
    "count_race = race.stack().value_counts()\n",
    "ax = count_race.plot(kind = 'pie',\n",
    "                              title = 'Race of the victims', startangle = 10, autopct='%.2f', explode=(0, 0, 0.7, 1, 1.3))\n",
    "ax.set_ylabel('')"
   ]
  },
  {
   "cell_type": "raw",
   "metadata": {},
   "source": [
    "We can now check the crime rate happening within a specific age. Getting the record of younger generation have been affected. "
   ]
  },
  {
   "cell_type": "raw",
   "metadata": {},
   "source": [
    "In terms of race, that white and black people have the highest homicide victimization and offending rates. Same as the condition for ethnicity, the reason may be that there are more white and black people in America than other races. So we need to move forward to investigate the relationship between the race of victim and the race of perpetrator which is more valuable for the future prediction task. From Figure 11, we can get that most victims are killed by the perpetrator with the same race."
   ]
  },
  {
   "cell_type": "code",
   "execution_count": 245,
   "metadata": {
    "collapsed": false
   },
   "outputs": [
    {
     "name": "stdout",
     "output_type": "stream",
     "text": [
      "Axes(0.125,0.125;0.775x0.755)\n"
     ]
    },
    {
     "data": {
      "image/png": "[encoded data removed]",
      "text/plain": [
       "<matplotlib.figure.Figure at 0x3d482a58>"
      ]
     },
     "metadata": {},
     "output_type": "display_data"
    }
   ],
   "source": [
    "#Victims under 18\n",
    "\n",
    "df['Victim Age'] = df['Victim Age'].astype(\"int\")\n",
    "mask = (df['Victim Age'] < 18)\n",
    "young_victims =  pd.DataFrame(df.loc[mask], columns = ['Year']) \n",
    "count_years = young_victims.stack().value_counts()\n",
    "homicides_young = count_years.sort_index(axis=0, ascending=False)\n",
    "mask2 = (df['Victim Age'] > 18)\n",
    "adult_victims =  pd.DataFrame(df.loc[mask2], columns = ['Year']) \n",
    "count_years = adult_victims.stack().value_counts()\n",
    "homicides_adult = count_years.sort_index(axis=0, ascending=False)\n",
    "print(homicides_young.plot(kind='barh', fontsize=10,  width=0.5,  figsize=(12, 10), title='Victims under 18 years old'))"
   ]
  },
  {
   "cell_type": "raw",
   "metadata": {},
   "source": [
    "Next we wanted to look at the crime comparing the races of the victim versus the perpetrator. If a correlation is found, this would be information that could be beneficial to law enforcement when looking for the perpetrator of future crimes. We found that crimes within the same race are more likely to commit crimes on one another.Next it was important to recognize the amount of crimes on females vs. males. This would help us analyze of there was one sex to focus on more than the other. It was found that males had a significantly higher victim crime rate than females."
   ]
  },
  {
   "cell_type": "code",
   "execution_count": 246,
   "metadata": {
    "collapsed": false
   },
   "outputs": [
    {
     "data": {
      "text/plain": [
       "White                            218243\n",
       "Black                            214516\n",
       "Unknown                          196047\n",
       "Asian/Pacific Islander             6046\n",
       "Native American/Alaska Native      3602\n",
       "Name: Perpetrator Race, dtype: int64"
      ]
     },
     "execution_count": 246,
     "metadata": {},
     "output_type": "execute_result"
    }
   ],
   "source": [
    "df['Perpetrator Race'].value_counts()"
   ]
  },
  {
   "cell_type": "raw",
   "metadata": {},
   "source": [
    "We analyze the characteristic of victims and perpetrators in terms of their sex, age, race and ethnicity.Next it was important to recognize the amount of crimes on females vs. males. This would help us analyze of there was one sex to focus on more than the other. It was found that males had a significantly higher victim crime rate than females."
   ]
  },
  {
   "cell_type": "code",
   "execution_count": 247,
   "metadata": {
    "collapsed": false
   },
   "outputs": [
    {
     "data": {
      "text/plain": [
       "<matplotlib.axes._subplots.AxesSubplot at 0x3fff9b00>"
      ]
     },
     "execution_count": 247,
     "metadata": {},
     "output_type": "execute_result"
    },
    {
     "data": {
      "image/png": "[encoded data removed]",
      "text/plain": [
       "<matplotlib.figure.Figure at 0x17cf13c8>"
      ]
     },
     "metadata": {},
     "output_type": "display_data"
    }
   ],
   "source": [
    "##Sex of the victims\n",
    "sex = df['Victim Sex'].value_counts()\n",
    "sex.plot.pie(figsize=(6, 6), title = 'Victim sex in Homicide data')"
   ]
  },
  {
   "cell_type": "code",
   "execution_count": null,
   "metadata": {
    "collapsed": false
   },
   "outputs": [],
   "source": []
  },
  {
   "cell_type": "code",
   "execution_count": 249,
   "metadata": {
    "collapsed": false
   },
   "outputs": [
    {
     "data": {
      "text/plain": [
       "<matplotlib.axes._subplots.AxesSubplot at 0x408722e8>"
      ]
     },
     "execution_count": 249,
     "metadata": {},
     "output_type": "execute_result"
    },
    {
     "data": {
      "image/png": "[encoded data removed]",
      "text/plain": [
       "<matplotlib.figure.Figure at 0x3e849470>"
      ]
     },
     "metadata": {},
     "output_type": "display_data"
    }
   ],
   "source": [
    "#Perpetrator Race\n",
    "race = df['Perpetrator Race'].value_counts()\n",
    "race.plot.pie(figsize=(6, 6), title = 'Perpetrator race in Homicide data')"
   ]
  },
  {
   "cell_type": "code",
   "execution_count": 250,
   "metadata": {
    "collapsed": false
   },
   "outputs": [
    {
     "data": {
      "text/plain": [
       "<matplotlib.axes._subplots.AxesSubplot at 0x3e8562b0>"
      ]
     },
     "execution_count": 250,
     "metadata": {},
     "output_type": "execute_result"
    },
    {
     "data": {
      "image/png": "[encoded data removed]",
      "text/plain": [
       "<matplotlib.figure.Figure at 0x3690a748>"
      ]
     },
     "metadata": {},
     "output_type": "display_data"
    }
   ],
   "source": [
    "#Perpetrator Sex\n",
    "sex = df['Perpetrator Sex'].value_counts()\n",
    "sex.plot.pie(figsize=(6, 6), title = 'Perpetrator sex in Homicide data')"
   ]
  },
  {
   "cell_type": "code",
   "execution_count": null,
   "metadata": {
    "collapsed": false
   },
   "outputs": [],
   "source": []
  },
  {
   "cell_type": "raw",
   "metadata": {},
   "source": [
    "In terms of sex, we can see  that most victims and perpetrators are male."
   ]
  },
  {
   "cell_type": "raw",
   "metadata": {},
   "source": [
    "One of the most informative variables when it comes to crime is the weapon used. "
   ]
  },
  {
   "cell_type": "code",
   "execution_count": 251,
   "metadata": {
    "collapsed": false
   },
   "outputs": [
    {
     "data": {
      "text/plain": [
       "Handgun         317484\n",
       "Knife            94962\n",
       "Blunt Object     67337\n",
       "Firearm          46980\n",
       "Unknown          33192\n",
       "Name: Weapon, dtype: int64"
      ]
     },
     "execution_count": 251,
     "metadata": {},
     "output_type": "execute_result"
    }
   ],
   "source": [
    "df['Weapon'].value_counts()[:5]"
   ]
  },
  {
   "cell_type": "code",
   "execution_count": 252,
   "metadata": {
    "collapsed": false
   },
   "outputs": [
    {
     "data": {
      "text/plain": [
       "<matplotlib.axes._subplots.AxesSubplot at 0x3e7fae48>"
      ]
     },
     "execution_count": 252,
     "metadata": {},
     "output_type": "execute_result"
    },
    {
     "data": {
      "image/png": "[encoded data removed]",
      "text/plain": [
       "<matplotlib.figure.Figure at 0x35450748>"
      ]
     },
     "metadata": {},
     "output_type": "display_data"
    }
   ],
   "source": [
    "weapon = df['Weapon'].value_counts()[:10]\n",
    "weapon.plot.pie(figsize=(6, 6), title = 'Top 10 Weapons used in Homicide')"
   ]
  },
  {
   "cell_type": "raw",
   "metadata": {},
   "source": [
    "It is clear that gun violence is a top national concern and needs to be dealt with if effective change is ever to be seen. Using these models as a starting point, law enforcement would likely turn their focus to gun control and finding new ways to control the distribution of firearms as well as potentially increase the amount of police officers patrolling neighborhoods with abnormally high amounts of firearm related homicides."
   ]
  },
  {
   "cell_type": "raw",
   "metadata": {},
   "source": [
    "We can get from Figure 13 that there are 15 different kinds of weapons. Homicides are mostly committed using handgun. Knife, blunt object, firearm, shotgun and rifle are also involved in many homicides."
   ]
  },
  {
   "cell_type": "code",
   "execution_count": 305,
   "metadata": {
    "collapsed": false,
    "scrolled": true
   },
   "outputs": [
    {
     "data": {
      "text/plain": [
       "<matplotlib.text.Text at 0x135e3a90>"
      ]
     },
     "execution_count": 305,
     "metadata": {},
     "output_type": "execute_result"
    },
    {
     "data": {
      "image/png": "[encoded data removed]",
      "text/plain": [
       "<matplotlib.figure.Figure at 0x3f4694a8>"
      ]
     },
     "metadata": {},
     "output_type": "display_data"
    }
   ],
   "source": [
    "#Crime types\n",
    "crime_types = pd.DataFrame(df, columns = ['Crime Type']) \n",
    "count_types = crime_types.stack().value_counts() \n",
    "count_crime_types = count_types.sort_index(axis=0, ascending=False)\n",
    "#plot the total of homicides\n",
    "\n",
    "ax = count_crime_types.plot(kind = 'pie', title = 'Crime Types', startangle = 25, autopct='%1.1f%%')\n",
    "ax.set_ylabel('')"
   ]
  },
  {
   "cell_type": "code",
   "execution_count": 306,
   "metadata": {
    "collapsed": false
   },
   "outputs": [
    {
     "data": {
      "text/plain": [
       "<matplotlib.text.Text at 0x6e539940>"
      ]
     },
     "execution_count": 306,
     "metadata": {},
     "output_type": "execute_result"
    },
    {
     "data": {
      "image/png": "[encoded data removed]",
      "text/plain": [
       "<matplotlib.figure.Figure at 0x15c617b8>"
      ]
     },
     "metadata": {},
     "output_type": "display_data"
    }
   ],
   "source": [
    "## Rate of crime's solved from 1980 - 1999\n",
    "\n",
    "solved = pd.DataFrame(df, columns = ['Crime Solved']) \n",
    "resolution = solved.stack().value_counts()\n",
    "ax = resolution.plot(kind = 'pie', title = 'Rates of solved and unsolved crimes between 1980 & 1999 (in %)', \n",
    "                     startangle = 10, \n",
    "                     autopct='%.2f')\n",
    "ax.set_ylabel('')"
   ]
  },
  {
   "cell_type": "code",
   "execution_count": 255,
   "metadata": {
    "collapsed": false
   },
   "outputs": [
    {
     "data": {
      "text/plain": [
       "<matplotlib.text.Text at 0x4005ef28>"
      ]
     },
     "execution_count": 255,
     "metadata": {},
     "output_type": "execute_result"
    },
    {
     "data": {
      "image/png": "[encoded data removed]",
      "text/plain": [
       "<matplotlib.figure.Figure at 0x1b22b390>"
      ]
     },
     "metadata": {},
     "output_type": "display_data"
    }
   ],
   "source": [
    "## Rate of crime's solved from 2000 - 2014\n",
    "\n",
    "solved = pd.DataFrame(df, columns = ['Crime Solved']) \n",
    "resolution = solved.stack().value_counts()\n",
    "ax = resolution.plot(kind = 'pie',\n",
    "                              title = 'Rates of solved & unsolved crimes between 2000 & 2014 (in %)',\n",
    "                              startangle = 10,\n",
    "                              autopct='%.2f')\n",
    "ax.set_ylabel('')"
   ]
  },
  {
   "cell_type": "code",
   "execution_count": null,
   "metadata": {
    "collapsed": true
   },
   "outputs": [],
   "source": []
  },
  {
   "cell_type": "code",
   "execution_count": null,
   "metadata": {
    "collapsed": true
   },
   "outputs": [],
   "source": []
  },
  {
   "cell_type": "code",
   "execution_count": null,
   "metadata": {
    "collapsed": true
   },
   "outputs": [],
   "source": []
  },
  {
   "cell_type": "raw",
   "metadata": {},
   "source": [
    "The percentage of unsolved crimes between 1980-1999 is 29%. The above pic chart is between 2000-2014, and again, we see a similar percentage of unsolved crimes at 30%. Obviously having zero unsolved crimes would be ideal, but minimizing the amount is a top priority, and 30% is alarmingly high. \n",
    "\n",
    "Now let's dig up to the depth and find out the unsolved cases from 1980 - 2014"
   ]
  },
  {
   "cell_type": "code",
   "execution_count": 256,
   "metadata": {
    "collapsed": false
   },
   "outputs": [
    {
     "data": {
      "text/html": [
       "<div>\n",
       "<table border=\"1\" class=\"dataframe\">\n",
       "  <thead>\n",
       "    <tr style=\"text-align: right;\">\n",
       "      <th></th>\n",
       "      <th>Record ID</th>\n",
       "      <th>Agency Code</th>\n",
       "      <th>Agency Name</th>\n",
       "      <th>Agency Type</th>\n",
       "      <th>City</th>\n",
       "      <th>State</th>\n",
       "      <th>Year</th>\n",
       "      <th>Month</th>\n",
       "      <th>Incident</th>\n",
       "      <th>Crime Type</th>\n",
       "      <th>...</th>\n",
       "      <th>Victim Ethnicity</th>\n",
       "      <th>Perpetrator Sex</th>\n",
       "      <th>Perpetrator Age</th>\n",
       "      <th>Perpetrator Race</th>\n",
       "      <th>Perpetrator Ethnicity</th>\n",
       "      <th>Relationship</th>\n",
       "      <th>Weapon</th>\n",
       "      <th>Victim Count</th>\n",
       "      <th>Perpetrator Count</th>\n",
       "      <th>Record Source</th>\n",
       "    </tr>\n",
       "  </thead>\n",
       "  <tbody>\n",
       "    <tr>\n",
       "      <th>2</th>\n",
       "      <td>3</td>\n",
       "      <td>AK00101</td>\n",
       "      <td>Anchorage</td>\n",
       "      <td>Municipal Police</td>\n",
       "      <td>Anchorage</td>\n",
       "      <td>Alaska</td>\n",
       "      <td>1980</td>\n",
       "      <td>March</td>\n",
       "      <td>2</td>\n",
       "      <td>Murder or Manslaughter</td>\n",
       "      <td>...</td>\n",
       "      <td>Unknown</td>\n",
       "      <td>Unknown</td>\n",
       "      <td>0</td>\n",
       "      <td>Unknown</td>\n",
       "      <td>Unknown</td>\n",
       "      <td>Unknown</td>\n",
       "      <td>Unknown</td>\n",
       "      <td>0</td>\n",
       "      <td>0</td>\n",
       "      <td>FBI</td>\n",
       "    </tr>\n",
       "    <tr>\n",
       "      <th>4</th>\n",
       "      <td>5</td>\n",
       "      <td>AK00101</td>\n",
       "      <td>Anchorage</td>\n",
       "      <td>Municipal Police</td>\n",
       "      <td>Anchorage</td>\n",
       "      <td>Alaska</td>\n",
       "      <td>1980</td>\n",
       "      <td>April</td>\n",
       "      <td>2</td>\n",
       "      <td>Murder or Manslaughter</td>\n",
       "      <td>...</td>\n",
       "      <td>Unknown</td>\n",
       "      <td>Unknown</td>\n",
       "      <td>0</td>\n",
       "      <td>Unknown</td>\n",
       "      <td>Unknown</td>\n",
       "      <td>Unknown</td>\n",
       "      <td>Unknown</td>\n",
       "      <td>0</td>\n",
       "      <td>1</td>\n",
       "      <td>FBI</td>\n",
       "    </tr>\n",
       "    <tr>\n",
       "      <th>8</th>\n",
       "      <td>9</td>\n",
       "      <td>AK00101</td>\n",
       "      <td>Anchorage</td>\n",
       "      <td>Municipal Police</td>\n",
       "      <td>Anchorage</td>\n",
       "      <td>Alaska</td>\n",
       "      <td>1980</td>\n",
       "      <td>June</td>\n",
       "      <td>2</td>\n",
       "      <td>Murder or Manslaughter</td>\n",
       "      <td>...</td>\n",
       "      <td>Unknown</td>\n",
       "      <td>Unknown</td>\n",
       "      <td>0</td>\n",
       "      <td>Unknown</td>\n",
       "      <td>Unknown</td>\n",
       "      <td>Unknown</td>\n",
       "      <td>Firearm</td>\n",
       "      <td>0</td>\n",
       "      <td>0</td>\n",
       "      <td>FBI</td>\n",
       "    </tr>\n",
       "    <tr>\n",
       "      <th>10</th>\n",
       "      <td>11</td>\n",
       "      <td>AK00101</td>\n",
       "      <td>Anchorage</td>\n",
       "      <td>Municipal Police</td>\n",
       "      <td>Anchorage</td>\n",
       "      <td>Alaska</td>\n",
       "      <td>1980</td>\n",
       "      <td>July</td>\n",
       "      <td>1</td>\n",
       "      <td>Murder or Manslaughter</td>\n",
       "      <td>...</td>\n",
       "      <td>Unknown</td>\n",
       "      <td>Unknown</td>\n",
       "      <td>0</td>\n",
       "      <td>Unknown</td>\n",
       "      <td>Unknown</td>\n",
       "      <td>Unknown</td>\n",
       "      <td>Unknown</td>\n",
       "      <td>0</td>\n",
       "      <td>1</td>\n",
       "      <td>FBI</td>\n",
       "    </tr>\n",
       "    <tr>\n",
       "      <th>14</th>\n",
       "      <td>15</td>\n",
       "      <td>AK00101</td>\n",
       "      <td>Anchorage</td>\n",
       "      <td>Municipal Police</td>\n",
       "      <td>Anchorage</td>\n",
       "      <td>Alaska</td>\n",
       "      <td>1980</td>\n",
       "      <td>August</td>\n",
       "      <td>2</td>\n",
       "      <td>Murder or Manslaughter</td>\n",
       "      <td>...</td>\n",
       "      <td>Unknown</td>\n",
       "      <td>Unknown</td>\n",
       "      <td>0</td>\n",
       "      <td>Unknown</td>\n",
       "      <td>Unknown</td>\n",
       "      <td>Unknown</td>\n",
       "      <td>Handgun</td>\n",
       "      <td>0</td>\n",
       "      <td>0</td>\n",
       "      <td>FBI</td>\n",
       "    </tr>\n",
       "  </tbody>\n",
       "</table>\n",
       "<p>5 rows × 24 columns</p>\n",
       "</div>"
      ],
      "text/plain": [
       "    Record ID Agency Code Agency Name       Agency Type       City   State  \\\n",
       "2           3     AK00101   Anchorage  Municipal Police  Anchorage  Alaska   \n",
       "4           5     AK00101   Anchorage  Municipal Police  Anchorage  Alaska   \n",
       "8           9     AK00101   Anchorage  Municipal Police  Anchorage  Alaska   \n",
       "10         11     AK00101   Anchorage  Municipal Police  Anchorage  Alaska   \n",
       "14         15     AK00101   Anchorage  Municipal Police  Anchorage  Alaska   \n",
       "\n",
       "    Year   Month  Incident              Crime Type      ...       \\\n",
       "2   1980   March         2  Murder or Manslaughter      ...        \n",
       "4   1980   April         2  Murder or Manslaughter      ...        \n",
       "8   1980    June         2  Murder or Manslaughter      ...        \n",
       "10  1980    July         1  Murder or Manslaughter      ...        \n",
       "14  1980  August         2  Murder or Manslaughter      ...        \n",
       "\n",
       "   Victim Ethnicity Perpetrator Sex  Perpetrator Age Perpetrator Race  \\\n",
       "2           Unknown         Unknown                0          Unknown   \n",
       "4           Unknown         Unknown                0          Unknown   \n",
       "8           Unknown         Unknown                0          Unknown   \n",
       "10          Unknown         Unknown                0          Unknown   \n",
       "14          Unknown         Unknown                0          Unknown   \n",
       "\n",
       "   Perpetrator Ethnicity Relationship   Weapon Victim Count Perpetrator Count  \\\n",
       "2                Unknown      Unknown  Unknown            0                 0   \n",
       "4                Unknown      Unknown  Unknown            0                 1   \n",
       "8                Unknown      Unknown  Firearm            0                 0   \n",
       "10               Unknown      Unknown  Unknown            0                 1   \n",
       "14               Unknown      Unknown  Handgun            0                 0   \n",
       "\n",
       "   Record Source  \n",
       "2            FBI  \n",
       "4            FBI  \n",
       "8            FBI  \n",
       "10           FBI  \n",
       "14           FBI  \n",
       "\n",
       "[5 rows x 24 columns]"
      ]
     },
     "execution_count": 256,
     "metadata": {},
     "output_type": "execute_result"
    }
   ],
   "source": [
    "MO_NormalisedPercentage.T.idxmax()unsolved = df[df[\"Crime Solved\"] != \"Yes\"]\n",
    "unsolved.head()"
   ]
  },
  {
   "cell_type": "code",
   "execution_count": null,
   "metadata": {
    "collapsed": true
   },
   "outputs": [],
   "source": []
  },
  {
   "cell_type": "code",
   "execution_count": null,
   "metadata": {
    "collapsed": true
   },
   "outputs": [],
   "source": []
  },
  {
   "cell_type": "code",
   "execution_count": null,
   "metadata": {
    "collapsed": true
   },
   "outputs": [],
   "source": []
  },
  {
   "cell_type": "code",
   "execution_count": 257,
   "metadata": {
    "collapsed": false
   },
   "outputs": [
    {
     "data": {
      "text/html": [
       "<div>\n",
       "<table border=\"1\" class=\"dataframe\">\n",
       "  <thead>\n",
       "    <tr style=\"text-align: right;\">\n",
       "      <th></th>\n",
       "      <th>Record ID</th>\n",
       "      <th>Year</th>\n",
       "      <th>Incident</th>\n",
       "      <th>Victim Age</th>\n",
       "      <th>Victim Count</th>\n",
       "      <th>Perpetrator Count</th>\n",
       "    </tr>\n",
       "  </thead>\n",
       "  <tbody>\n",
       "    <tr>\n",
       "      <th>count</th>\n",
       "      <td>190282.000000</td>\n",
       "      <td>190282.000000</td>\n",
       "      <td>190282.000000</td>\n",
       "      <td>190282.000000</td>\n",
       "      <td>190282.000000</td>\n",
       "      <td>190282.000000</td>\n",
       "    </tr>\n",
       "    <tr>\n",
       "      <th>mean</th>\n",
       "      <td>326560.985979</td>\n",
       "      <td>1996.203934</td>\n",
       "      <td>25.797112</td>\n",
       "      <td>37.448434</td>\n",
       "      <td>0.101476</td>\n",
       "      <td>0.035284</td>\n",
       "    </tr>\n",
       "    <tr>\n",
       "      <th>std</th>\n",
       "      <td>180532.149703</td>\n",
       "      <td>9.753870</td>\n",
       "      <td>89.272799</td>\n",
       "      <td>57.194890</td>\n",
       "      <td>0.431139</td>\n",
       "      <td>0.209370</td>\n",
       "    </tr>\n",
       "    <tr>\n",
       "      <th>min</th>\n",
       "      <td>3.000000</td>\n",
       "      <td>1980.000000</td>\n",
       "      <td>0.000000</td>\n",
       "      <td>0.000000</td>\n",
       "      <td>0.000000</td>\n",
       "      <td>0.000000</td>\n",
       "    </tr>\n",
       "    <tr>\n",
       "      <th>25%</th>\n",
       "      <td>176764.500000</td>\n",
       "      <td>1988.000000</td>\n",
       "      <td>1.000000</td>\n",
       "      <td>22.000000</td>\n",
       "      <td>0.000000</td>\n",
       "      <td>0.000000</td>\n",
       "    </tr>\n",
       "    <tr>\n",
       "      <th>50%</th>\n",
       "      <td>327459.500000</td>\n",
       "      <td>1995.000000</td>\n",
       "      <td>4.000000</td>\n",
       "      <td>29.000000</td>\n",
       "      <td>0.000000</td>\n",
       "      <td>0.000000</td>\n",
       "    </tr>\n",
       "    <tr>\n",
       "      <th>75%</th>\n",
       "      <td>482565.500000</td>\n",
       "      <td>2005.000000</td>\n",
       "      <td>16.000000</td>\n",
       "      <td>41.000000</td>\n",
       "      <td>0.000000</td>\n",
       "      <td>0.000000</td>\n",
       "    </tr>\n",
       "    <tr>\n",
       "      <th>max</th>\n",
       "      <td>638450.000000</td>\n",
       "      <td>2014.000000</td>\n",
       "      <td>999.000000</td>\n",
       "      <td>998.000000</td>\n",
       "      <td>9.000000</td>\n",
       "      <td>8.000000</td>\n",
       "    </tr>\n",
       "  </tbody>\n",
       "</table>\n",
       "</div>"
      ],
      "text/plain": [
       "           Record ID           Year       Incident     Victim Age  \\\n",
       "count  190282.000000  190282.000000  190282.000000  190282.000000   \n",
       "mean   326560.985979    1996.203934      25.797112      37.448434   \n",
       "std    180532.149703       9.753870      89.272799      57.194890   \n",
       "min         3.000000    1980.000000       0.000000       0.000000   \n",
       "25%    176764.500000    1988.000000       1.000000      22.000000   \n",
       "50%    327459.500000    1995.000000       4.000000      29.000000   \n",
       "75%    482565.500000    2005.000000      16.000000      41.000000   \n",
       "max    638450.000000    2014.000000     999.000000     998.000000   \n",
       "\n",
       "        Victim Count  Perpetrator Count  \n",
       "count  190282.000000      190282.000000  \n",
       "mean        0.101476           0.035284  \n",
       "std         0.431139           0.209370  \n",
       "min         0.000000           0.000000  \n",
       "25%         0.000000           0.000000  \n",
       "50%         0.000000           0.000000  \n",
       "75%         0.000000           0.000000  \n",
       "max         9.000000           8.000000  "
      ]
     },
     "execution_count": 257,
     "metadata": {},
     "output_type": "execute_result"
    }
   ],
   "source": [
    "unsolved.describe()"
   ]
  },
  {
   "cell_type": "code",
   "execution_count": null,
   "metadata": {
    "collapsed": true
   },
   "outputs": [],
   "source": []
  },
  {
   "cell_type": "code",
   "execution_count": null,
   "metadata": {
    "collapsed": true
   },
   "outputs": [],
   "source": []
  },
  {
   "cell_type": "code",
   "execution_count": 258,
   "metadata": {
    "collapsed": false
   },
   "outputs": [
    {
     "data": {
      "text/plain": [
       "<matplotlib.text.Text at 0x14711438>"
      ]
     },
     "execution_count": 258,
     "metadata": {},
     "output_type": "execute_result"
    },
    {
     "data": {
      "image/png": "[encoded data removed]",
      "text/plain": [
       "<matplotlib.figure.Figure at 0x35e772e8>"
      ]
     },
     "metadata": {},
     "output_type": "display_data"
    }
   ],
   "source": [
    "plt.rcParams[\"figure.figsize\"] = (12,4)\n",
    "unsolved['Year'].value_counts().sort_index(ascending=True).plot(kind='line')\n",
    "plt.title('Number of Unsolved Homicides: 1980 to 2014')"
   ]
  },
  {
   "cell_type": "code",
   "execution_count": null,
   "metadata": {
    "collapsed": true
   },
   "outputs": [],
   "source": []
  },
  {
   "cell_type": "code",
   "execution_count": null,
   "metadata": {
    "collapsed": true
   },
   "outputs": [],
   "source": []
  },
  {
   "cell_type": "code",
   "execution_count": null,
   "metadata": {
    "collapsed": true
   },
   "outputs": [],
   "source": []
  },
  {
   "cell_type": "code",
   "execution_count": 259,
   "metadata": {
    "collapsed": false
   },
   "outputs": [
    {
     "data": {
      "text/plain": [
       "<matplotlib.axes._subplots.AxesSubplot at 0x40063ef0>"
      ]
     },
     "execution_count": 259,
     "metadata": {},
     "output_type": "execute_result"
    },
    {
     "data": {
      "image/png": "[encoded data removed]",
      "text/plain": [
       "<matplotlib.figure.Figure at 0x35ea8ef0>"
      ]
     },
     "metadata": {},
     "output_type": "display_data"
    }
   ],
   "source": [
    "unsolved[\"Month\"].value_counts().plot(kind=\"bar\")"
   ]
  },
  {
   "cell_type": "raw",
   "metadata": {},
   "source": [
    "In above graph, we see that December month is in top of the list where crimes remained unsolved. "
   ]
  },
  {
   "cell_type": "markdown",
   "metadata": {},
   "source": [
    "# Now let's find out the kind of agencies contributed to the unsolved homicide statistics."
   ]
  },
  {
   "cell_type": "code",
   "execution_count": 260,
   "metadata": {
    "collapsed": false
   },
   "outputs": [
    {
     "data": {
      "text/plain": [
       "<matplotlib.axes._subplots.AxesSubplot at 0x59993c18>"
      ]
     },
     "execution_count": 260,
     "metadata": {},
     "output_type": "execute_result"
    },
    {
     "data": {
      "image/png": "[encoded data removed]",
      "text/plain": [
       "<matplotlib.figure.Figure at 0x3feb5eb8>"
      ]
     },
     "metadata": {},
     "output_type": "display_data"
    }
   ],
   "source": [
    "unsolved[\"Agency Type\"].value_counts().plot(kind=\"bar\")\n",
    "#plt.yscale('log', nonposy='clip')"
   ]
  },
  {
   "cell_type": "markdown",
   "metadata": {},
   "source": [
    "# Exploring Relationship Between Victims and Perpetrators"
   ]
  },
  {
   "cell_type": "code",
   "execution_count": 261,
   "metadata": {
    "collapsed": false,
    "scrolled": true
   },
   "outputs": [
    {
     "data": {
      "text/plain": [
       "array(['Acquaintance', 'Unknown', 'Wife', 'Stranger', 'Girlfriend',\n",
       "       'Ex-Husband', 'Brother', 'Stepdaughter', 'Husband', 'Sister',\n",
       "       'Friend', 'Family', 'Neighbor', 'Father', 'In-Law', 'Son',\n",
       "       'Ex-Wife', 'Boyfriend', 'Mother', 'Common-Law Husband',\n",
       "       'Common-Law Wife', 'Stepfather', 'Stepson', 'Stepmother',\n",
       "       'Daughter', 'Boyfriend/Girlfriend', 'Employer', 'Employee'], dtype=object)"
      ]
     },
     "execution_count": 261,
     "metadata": {},
     "output_type": "execute_result"
    }
   ],
   "source": [
    "df[\"Relationship\"].unique()"
   ]
  },
  {
   "cell_type": "code",
   "execution_count": 262,
   "metadata": {
    "collapsed": false
   },
   "outputs": [
    {
     "data": {
      "text/html": [
       "<div>\n",
       "<table border=\"1\" class=\"dataframe\">\n",
       "  <thead>\n",
       "    <tr style=\"text-align: right;\">\n",
       "      <th></th>\n",
       "      <th>Record ID</th>\n",
       "      <th>Agency Code</th>\n",
       "      <th>Agency Name</th>\n",
       "      <th>Agency Type</th>\n",
       "      <th>City</th>\n",
       "      <th>State</th>\n",
       "      <th>Year</th>\n",
       "      <th>Month</th>\n",
       "      <th>Incident</th>\n",
       "      <th>Crime Type</th>\n",
       "      <th>...</th>\n",
       "      <th>Victim Ethnicity</th>\n",
       "      <th>Perpetrator Sex</th>\n",
       "      <th>Perpetrator Age</th>\n",
       "      <th>Perpetrator Race</th>\n",
       "      <th>Perpetrator Ethnicity</th>\n",
       "      <th>Relationship</th>\n",
       "      <th>Weapon</th>\n",
       "      <th>Victim Count</th>\n",
       "      <th>Perpetrator Count</th>\n",
       "      <th>Record Source</th>\n",
       "    </tr>\n",
       "  </thead>\n",
       "  <tbody>\n",
       "    <tr>\n",
       "      <th>0</th>\n",
       "      <td>1</td>\n",
       "      <td>AK00101</td>\n",
       "      <td>Anchorage</td>\n",
       "      <td>Municipal Police</td>\n",
       "      <td>Anchorage</td>\n",
       "      <td>Alaska</td>\n",
       "      <td>1980</td>\n",
       "      <td>January</td>\n",
       "      <td>1</td>\n",
       "      <td>Murder or Manslaughter</td>\n",
       "      <td>...</td>\n",
       "      <td>Unknown</td>\n",
       "      <td>Male</td>\n",
       "      <td>15</td>\n",
       "      <td>Native American/Alaska Native</td>\n",
       "      <td>Unknown</td>\n",
       "      <td>Acquaintance</td>\n",
       "      <td>Blunt Object</td>\n",
       "      <td>0</td>\n",
       "      <td>0</td>\n",
       "      <td>FBI</td>\n",
       "    </tr>\n",
       "    <tr>\n",
       "      <th>1</th>\n",
       "      <td>2</td>\n",
       "      <td>AK00101</td>\n",
       "      <td>Anchorage</td>\n",
       "      <td>Municipal Police</td>\n",
       "      <td>Anchorage</td>\n",
       "      <td>Alaska</td>\n",
       "      <td>1980</td>\n",
       "      <td>March</td>\n",
       "      <td>1</td>\n",
       "      <td>Murder or Manslaughter</td>\n",
       "      <td>...</td>\n",
       "      <td>Unknown</td>\n",
       "      <td>Male</td>\n",
       "      <td>42</td>\n",
       "      <td>White</td>\n",
       "      <td>Unknown</td>\n",
       "      <td>Acquaintance</td>\n",
       "      <td>Strangulation</td>\n",
       "      <td>0</td>\n",
       "      <td>0</td>\n",
       "      <td>FBI</td>\n",
       "    </tr>\n",
       "    <tr>\n",
       "      <th>3</th>\n",
       "      <td>4</td>\n",
       "      <td>AK00101</td>\n",
       "      <td>Anchorage</td>\n",
       "      <td>Municipal Police</td>\n",
       "      <td>Anchorage</td>\n",
       "      <td>Alaska</td>\n",
       "      <td>1980</td>\n",
       "      <td>April</td>\n",
       "      <td>1</td>\n",
       "      <td>Murder or Manslaughter</td>\n",
       "      <td>...</td>\n",
       "      <td>Unknown</td>\n",
       "      <td>Male</td>\n",
       "      <td>42</td>\n",
       "      <td>White</td>\n",
       "      <td>Unknown</td>\n",
       "      <td>Acquaintance</td>\n",
       "      <td>Strangulation</td>\n",
       "      <td>0</td>\n",
       "      <td>0</td>\n",
       "      <td>FBI</td>\n",
       "    </tr>\n",
       "    <tr>\n",
       "      <th>5</th>\n",
       "      <td>6</td>\n",
       "      <td>AK00101</td>\n",
       "      <td>Anchorage</td>\n",
       "      <td>Municipal Police</td>\n",
       "      <td>Anchorage</td>\n",
       "      <td>Alaska</td>\n",
       "      <td>1980</td>\n",
       "      <td>May</td>\n",
       "      <td>1</td>\n",
       "      <td>Murder or Manslaughter</td>\n",
       "      <td>...</td>\n",
       "      <td>Unknown</td>\n",
       "      <td>Male</td>\n",
       "      <td>36</td>\n",
       "      <td>White</td>\n",
       "      <td>Unknown</td>\n",
       "      <td>Acquaintance</td>\n",
       "      <td>Rifle</td>\n",
       "      <td>0</td>\n",
       "      <td>0</td>\n",
       "      <td>FBI</td>\n",
       "    </tr>\n",
       "    <tr>\n",
       "      <th>6</th>\n",
       "      <td>7</td>\n",
       "      <td>AK00101</td>\n",
       "      <td>Anchorage</td>\n",
       "      <td>Municipal Police</td>\n",
       "      <td>Anchorage</td>\n",
       "      <td>Alaska</td>\n",
       "      <td>1980</td>\n",
       "      <td>May</td>\n",
       "      <td>2</td>\n",
       "      <td>Murder or Manslaughter</td>\n",
       "      <td>...</td>\n",
       "      <td>Unknown</td>\n",
       "      <td>Male</td>\n",
       "      <td>27</td>\n",
       "      <td>Black</td>\n",
       "      <td>Unknown</td>\n",
       "      <td>Wife</td>\n",
       "      <td>Knife</td>\n",
       "      <td>0</td>\n",
       "      <td>0</td>\n",
       "      <td>FBI</td>\n",
       "    </tr>\n",
       "  </tbody>\n",
       "</table>\n",
       "<p>5 rows × 24 columns</p>\n",
       "</div>"
      ],
      "text/plain": [
       "   Record ID Agency Code Agency Name       Agency Type       City   State  \\\n",
       "0          1     AK00101   Anchorage  Municipal Police  Anchorage  Alaska   \n",
       "1          2     AK00101   Anchorage  Municipal Police  Anchorage  Alaska   \n",
       "3          4     AK00101   Anchorage  Municipal Police  Anchorage  Alaska   \n",
       "5          6     AK00101   Anchorage  Municipal Police  Anchorage  Alaska   \n",
       "6          7     AK00101   Anchorage  Municipal Police  Anchorage  Alaska   \n",
       "\n",
       "   Year    Month  Incident              Crime Type      ...       \\\n",
       "0  1980  January         1  Murder or Manslaughter      ...        \n",
       "1  1980    March         1  Murder or Manslaughter      ...        \n",
       "3  1980    April         1  Murder or Manslaughter      ...        \n",
       "5  1980      May         1  Murder or Manslaughter      ...        \n",
       "6  1980      May         2  Murder or Manslaughter      ...        \n",
       "\n",
       "  Victim Ethnicity Perpetrator Sex  Perpetrator Age  \\\n",
       "0          Unknown            Male               15   \n",
       "1          Unknown            Male               42   \n",
       "3          Unknown            Male               42   \n",
       "5          Unknown            Male               36   \n",
       "6          Unknown            Male               27   \n",
       "\n",
       "                Perpetrator Race Perpetrator Ethnicity  Relationship  \\\n",
       "0  Native American/Alaska Native               Unknown  Acquaintance   \n",
       "1                          White               Unknown  Acquaintance   \n",
       "3                          White               Unknown  Acquaintance   \n",
       "5                          White               Unknown  Acquaintance   \n",
       "6                          Black               Unknown          Wife   \n",
       "\n",
       "          Weapon Victim Count Perpetrator Count Record Source  \n",
       "0   Blunt Object            0                 0           FBI  \n",
       "1  Strangulation            0                 0           FBI  \n",
       "3  Strangulation            0                 0           FBI  \n",
       "5          Rifle            0                 0           FBI  \n",
       "6          Knife            0                 0           FBI  \n",
       "\n",
       "[5 rows x 24 columns]"
      ]
     },
     "execution_count": 262,
     "metadata": {},
     "output_type": "execute_result"
    }
   ],
   "source": [
    "known = df[df[\"Relationship\"] != \"Unknown\"]\n",
    "known.head()"
   ]
  },
  {
   "cell_type": "code",
   "execution_count": 263,
   "metadata": {
    "collapsed": false,
    "scrolled": true
   },
   "outputs": [
    {
     "data": {
      "text/plain": [
       "Acquaintance            126018\n",
       "Stranger                 96593\n",
       "Wife                     23187\n",
       "Friend                   21945\n",
       "Girlfriend               16465\n",
       "Son                       9904\n",
       "Family                    9535\n",
       "Husband                   8803\n",
       "Daughter                  7539\n",
       "Boyfriend                 7302\n",
       "Neighbor                  6294\n",
       "Brother                   5514\n",
       "Father                    4361\n",
       "Mother                    4248\n",
       "In-Law                    3637\n",
       "Common-Law Wife           2477\n",
       "Ex-Wife                   1973\n",
       "Common-Law Husband        1954\n",
       "Boyfriend/Girlfriend      1383\n",
       "Stepfather                1360\n",
       "Sister                    1292\n",
       "Stepson                   1170\n",
       "Stepdaughter               754\n",
       "Ex-Husband                 629\n",
       "Employer                   509\n",
       "Employee                   384\n",
       "Stepmother                 211\n",
       "Name: Relationship, dtype: int64"
      ]
     },
     "execution_count": 263,
     "metadata": {},
     "output_type": "execute_result"
    }
   ],
   "source": [
    "known[\"Relationship\"].value_counts()"
   ]
  },
  {
   "cell_type": "code",
   "execution_count": null,
   "metadata": {
    "collapsed": true
   },
   "outputs": [],
   "source": []
  },
  {
   "cell_type": "code",
   "execution_count": null,
   "metadata": {
    "collapsed": true
   },
   "outputs": [],
   "source": []
  },
  {
   "cell_type": "code",
   "execution_count": 264,
   "metadata": {
    "collapsed": false
   },
   "outputs": [
    {
     "data": {
      "image/png": "[encoded data removed]",
      "text/plain": [
       "<matplotlib.figure.Figure at 0x3d014be0>"
      ]
     },
     "metadata": {},
     "output_type": "display_data"
    }
   ],
   "source": [
    "plt.rcParams[\"figure.figsize\"] = (12,4)\n",
    "known[\"Relationship\"].value_counts().plot(kind=\"bar\")\n",
    "plt.title(\"Relationsip of Victim to Perpetrator\")\n",
    "plt.yscale('log', nonposy='clip')"
   ]
  },
  {
   "cell_type": "raw",
   "metadata": {},
   "source": [
    "From Figure 12, there are 27 different kinds of relationship between victim and perpetrator. Acquaintance and stranger are two relationship with the top 2 highest homicide rate. Wife killed by husband, friend killed by friend and girlfriend killed boyfriend also have relatively high homicide rate. Other relationship such as son, family, husband, daughter, boyfriend, neighbor have relatively smaller homicide rate than the ones mentioned above. We may categorize the relationship into three categories, i.e. Stranger or acquaintance, families or in a relationship, stepparents or employment relationship. The first category has the highest homicide rate, the second one has relatively lower homicide rate and the third one has the lowest homicide rate. So it is most likely that the victim is killed by someone he or she doesn't know or the person he or she has no intimate relationship"
   ]
  },
  {
   "cell_type": "markdown",
   "metadata": {},
   "source": [
    "# Is there a racial angle to these homicides?"
   ]
  },
  {
   "cell_type": "code",
   "execution_count": 265,
   "metadata": {
    "collapsed": false
   },
   "outputs": [
    {
     "data": {
      "text/plain": [
       "array(['Native American/Alaska Native', 'White', 'Unknown', 'Black',\n",
       "       'Asian/Pacific Islander'], dtype=object)"
      ]
     },
     "execution_count": 265,
     "metadata": {},
     "output_type": "execute_result"
    }
   ],
   "source": [
    "df[\"Perpetrator Race\"].unique()"
   ]
  },
  {
   "cell_type": "code",
   "execution_count": 304,
   "metadata": {
    "collapsed": false
   },
   "outputs": [
    {
     "ename": "TypeError",
     "evalue": "'instancemethod' object has no attribute '__getitem__'",
     "output_type": "error",
     "traceback": [
      "\u001b[0;31m---------------------------------------------------------------------------\u001b[0m",
      "\u001b[0;31mTypeError\u001b[0m                                 Traceback (most recent call last)",
      "\u001b[0;32m<ipython-input-304-3ecba2d28e85>\u001b[0m in \u001b[0;36m<module>\u001b[0;34m()\u001b[0m\n\u001b[0;32m----> 1\u001b[0;31m \u001b[0mdf\u001b[0m\u001b[1;33m.\u001b[0m\u001b[0mdrop\u001b[0m\u001b[1;33m[\u001b[0m\u001b[1;34m'Unknown'\u001b[0m\u001b[1;33m]\u001b[0m\u001b[1;33m\u001b[0m\u001b[0m\n\u001b[0m",
      "\u001b[0;31mTypeError\u001b[0m: 'instancemethod' object has no attribute '__getitem__'"
     ]
    }
   ],
   "source": [
    "df.drop['Unknown']"
   ]
  },
  {
   "cell_type": "code",
   "execution_count": 266,
   "metadata": {
    "collapsed": false
   },
   "outputs": [
    {
     "data": {
      "text/plain": [
       "Index([u'Record ID', u'Agency Code', u'Agency Name', u'Agency Type', u'City',\n",
       "       u'State', u'Year', u'Month', u'Incident', u'Crime Type',\n",
       "       u'Crime Solved', u'Victim Sex', u'Victim Age', u'Victim Race',\n",
       "       u'Victim Ethnicity', u'Perpetrator Sex', u'Perpetrator Age',\n",
       "       u'Perpetrator Race', u'Perpetrator Ethnicity', u'Relationship',\n",
       "       u'Weapon', u'Victim Count', u'Perpetrator Count', u'Record Source'],\n",
       "      dtype='object')"
      ]
     },
     "execution_count": 266,
     "metadata": {},
     "output_type": "execute_result"
    }
   ],
   "source": [
    "df.columns"
   ]
  },
  {
   "cell_type": "code",
   "execution_count": 267,
   "metadata": {
    "collapsed": false,
    "scrolled": false
   },
   "outputs": [
    {
     "data": {
      "text/html": [
       "<div>\n",
       "<table border=\"1\" class=\"dataframe\">\n",
       "  <thead>\n",
       "    <tr>\n",
       "      <th></th>\n",
       "      <th></th>\n",
       "      <th>sum</th>\n",
       "    </tr>\n",
       "    <tr>\n",
       "      <th></th>\n",
       "      <th></th>\n",
       "      <th>Victim Count</th>\n",
       "    </tr>\n",
       "    <tr>\n",
       "      <th>Victim Race</th>\n",
       "      <th>Perpetrator Race</th>\n",
       "      <th></th>\n",
       "    </tr>\n",
       "  </thead>\n",
       "  <tbody>\n",
       "    <tr>\n",
       "      <th rowspan=\"5\" valign=\"top\">Asian/Pacific Islander</th>\n",
       "      <th>Asian/Pacific Islander</th>\n",
       "      <td>1139</td>\n",
       "    </tr>\n",
       "    <tr>\n",
       "      <th>Black</th>\n",
       "      <td>128</td>\n",
       "    </tr>\n",
       "    <tr>\n",
       "      <th>Native American/Alaska Native</th>\n",
       "      <td>9</td>\n",
       "    </tr>\n",
       "    <tr>\n",
       "      <th>Unknown</th>\n",
       "      <td>48</td>\n",
       "    </tr>\n",
       "    <tr>\n",
       "      <th>White</th>\n",
       "      <td>309</td>\n",
       "    </tr>\n",
       "    <tr>\n",
       "      <th rowspan=\"5\" valign=\"top\">Black</th>\n",
       "      <th>Asian/Pacific Islander</th>\n",
       "      <td>23</td>\n",
       "    </tr>\n",
       "    <tr>\n",
       "      <th>Black</th>\n",
       "      <td>11316</td>\n",
       "    </tr>\n",
       "    <tr>\n",
       "      <th>Native American/Alaska Native</th>\n",
       "      <td>11</td>\n",
       "    </tr>\n",
       "    <tr>\n",
       "      <th>Unknown</th>\n",
       "      <td>266</td>\n",
       "    </tr>\n",
       "    <tr>\n",
       "      <th>White</th>\n",
       "      <td>1434</td>\n",
       "    </tr>\n",
       "    <tr>\n",
       "      <th rowspan=\"5\" valign=\"top\">Native American/Alaska Native</th>\n",
       "      <th>Asian/Pacific Islander</th>\n",
       "      <td>0</td>\n",
       "    </tr>\n",
       "    <tr>\n",
       "      <th>Black</th>\n",
       "      <td>27</td>\n",
       "    </tr>\n",
       "    <tr>\n",
       "      <th>Native American/Alaska Native</th>\n",
       "      <td>263</td>\n",
       "    </tr>\n",
       "    <tr>\n",
       "      <th>Unknown</th>\n",
       "      <td>11</td>\n",
       "    </tr>\n",
       "    <tr>\n",
       "      <th>White</th>\n",
       "      <td>102</td>\n",
       "    </tr>\n",
       "    <tr>\n",
       "      <th rowspan=\"5\" valign=\"top\">Unknown</th>\n",
       "      <th>Asian/Pacific Islander</th>\n",
       "      <td>12</td>\n",
       "    </tr>\n",
       "    <tr>\n",
       "      <th>Black</th>\n",
       "      <td>118</td>\n",
       "    </tr>\n",
       "    <tr>\n",
       "      <th>Native American/Alaska Native</th>\n",
       "      <td>2</td>\n",
       "    </tr>\n",
       "    <tr>\n",
       "      <th>Unknown</th>\n",
       "      <td>210</td>\n",
       "    </tr>\n",
       "    <tr>\n",
       "      <th>White</th>\n",
       "      <td>199</td>\n",
       "    </tr>\n",
       "    <tr>\n",
       "      <th rowspan=\"5\" valign=\"top\">White</th>\n",
       "      <th>Asian/Pacific Islander</th>\n",
       "      <td>181</td>\n",
       "    </tr>\n",
       "    <tr>\n",
       "      <th>Black</th>\n",
       "      <td>3414</td>\n",
       "    </tr>\n",
       "    <tr>\n",
       "      <th>Native American/Alaska Native</th>\n",
       "      <td>206</td>\n",
       "    </tr>\n",
       "    <tr>\n",
       "      <th>Unknown</th>\n",
       "      <td>889</td>\n",
       "    </tr>\n",
       "    <tr>\n",
       "      <th>White</th>\n",
       "      <td>27273</td>\n",
       "    </tr>\n",
       "  </tbody>\n",
       "</table>\n",
       "</div>"
      ],
      "text/plain": [
       "                                                                     sum\n",
       "                                                            Victim Count\n",
       "Victim Race                   Perpetrator Race                          \n",
       "Asian/Pacific Islander        Asian/Pacific Islander                1139\n",
       "                              Black                                  128\n",
       "                              Native American/Alaska Native            9\n",
       "                              Unknown                                 48\n",
       "                              White                                  309\n",
       "Black                         Asian/Pacific Islander                  23\n",
       "                              Black                                11316\n",
       "                              Native American/Alaska Native           11\n",
       "                              Unknown                                266\n",
       "                              White                                 1434\n",
       "Native American/Alaska Native Asian/Pacific Islander                   0\n",
       "                              Black                                   27\n",
       "                              Native American/Alaska Native          263\n",
       "                              Unknown                                 11\n",
       "                              White                                  102\n",
       "Unknown                       Asian/Pacific Islander                  12\n",
       "                              Black                                  118\n",
       "                              Native American/Alaska Native            2\n",
       "                              Unknown                                210\n",
       "                              White                                  199\n",
       "White                         Asian/Pacific Islander                 181\n",
       "                              Black                                 3414\n",
       "                              Native American/Alaska Native          206\n",
       "                              Unknown                                889\n",
       "                              White                                27273"
      ]
     },
     "execution_count": 267,
     "metadata": {},
     "output_type": "execute_result"
    }
   ],
   "source": [
    "pd.pivot_table(known,index=[\"Victim Race\",\"Perpetrator Race\"],values=[\"Victim Count\"],aggfunc=[np.sum])\n",
    "               #columns=[\"Product\"],aggfunc=[np.sum])"
   ]
  },
  {
   "cell_type": "raw",
   "metadata": {},
   "source": [
    "The above details clearly shows that most people were killed by people from their own racial background."
   ]
  },
  {
   "cell_type": "code",
   "execution_count": 268,
   "metadata": {
    "collapsed": false
   },
   "outputs": [
    {
     "data": {
      "text/plain": [
       "(array([ 0.5,  1.5,  2.5]), <a list of 3 Text yticklabel objects>)"
      ]
     },
     "execution_count": 268,
     "metadata": {},
     "output_type": "execute_result"
    },
    {
     "data": {
      "image/png": "[encoded data removed]",
      "text/plain": [
       "<matplotlib.figure.Figure at 0x1b60ebe0>"
      ]
     },
     "metadata": {},
     "output_type": "display_data"
    }
   ],
   "source": [
    "df4 = df.groupby(['Perpetrator Sex', 'Weapon'])['Incident'].sum().reset_index()\n",
    "df4['pc'] = df4.groupby('Perpetrator Sex')['Incident'].apply(lambda x: 100 * x / x.sum())\n",
    "f4, ax4 = plt.subplots()\n",
    "sns.heatmap(df4.pivot(index='Perpetrator Sex', columns='Weapon', values='pc'), square=True, ax=ax4)\n",
    "plt.xticks(rotation=90)\n",
    "plt.yticks(rotation=0)\n"
   ]
  },
  {
   "cell_type": "raw",
   "metadata": {},
   "source": [
    "Seems like ladies are indeed more crafty with knifes as they prefer that sharp edge rather than the good old pistol."
   ]
  },
  {
   "cell_type": "code",
   "execution_count": 269,
   "metadata": {
    "collapsed": false
   },
   "outputs": [
    {
     "data": {
      "text/html": [
       "<div>\n",
       "<table border=\"1\" class=\"dataframe\">\n",
       "  <thead>\n",
       "    <tr style=\"text-align: right;\">\n",
       "      <th>Crime Solved</th>\n",
       "      <th>No</th>\n",
       "      <th>Yes</th>\n",
       "    </tr>\n",
       "    <tr>\n",
       "      <th>Weapon</th>\n",
       "      <th></th>\n",
       "      <th></th>\n",
       "    </tr>\n",
       "  </thead>\n",
       "  <tbody>\n",
       "    <tr>\n",
       "      <th>Handgun</th>\n",
       "      <td>100546</td>\n",
       "      <td>216938</td>\n",
       "    </tr>\n",
       "    <tr>\n",
       "      <th>Firearm</th>\n",
       "      <td>22578</td>\n",
       "      <td>24402</td>\n",
       "    </tr>\n",
       "    <tr>\n",
       "      <th>Knife</th>\n",
       "      <td>20204</td>\n",
       "      <td>74758</td>\n",
       "    </tr>\n",
       "    <tr>\n",
       "      <th>Blunt Object</th>\n",
       "      <td>15833</td>\n",
       "      <td>51504</td>\n",
       "    </tr>\n",
       "    <tr>\n",
       "      <th>Unknown</th>\n",
       "      <td>14783</td>\n",
       "      <td>18409</td>\n",
       "    </tr>\n",
       "    <tr>\n",
       "      <th>Shotgun</th>\n",
       "      <td>4682</td>\n",
       "      <td>26040</td>\n",
       "    </tr>\n",
       "    <tr>\n",
       "      <th>Strangulation</th>\n",
       "      <td>3701</td>\n",
       "      <td>4409</td>\n",
       "    </tr>\n",
       "    <tr>\n",
       "      <th>Rifle</th>\n",
       "      <td>3401</td>\n",
       "      <td>19946</td>\n",
       "    </tr>\n",
       "    <tr>\n",
       "      <th>Fire</th>\n",
       "      <td>2034</td>\n",
       "      <td>4139</td>\n",
       "    </tr>\n",
       "    <tr>\n",
       "      <th>Suffocation</th>\n",
       "      <td>990</td>\n",
       "      <td>2978</td>\n",
       "    </tr>\n",
       "    <tr>\n",
       "      <th>Gun</th>\n",
       "      <td>882</td>\n",
       "      <td>1324</td>\n",
       "    </tr>\n",
       "    <tr>\n",
       "      <th>Drowning</th>\n",
       "      <td>205</td>\n",
       "      <td>999</td>\n",
       "    </tr>\n",
       "    <tr>\n",
       "      <th>Drugs</th>\n",
       "      <td>192</td>\n",
       "      <td>1396</td>\n",
       "    </tr>\n",
       "    <tr>\n",
       "      <th>Explosives</th>\n",
       "      <td>149</td>\n",
       "      <td>388</td>\n",
       "    </tr>\n",
       "    <tr>\n",
       "      <th>Poison</th>\n",
       "      <td>78</td>\n",
       "      <td>376</td>\n",
       "    </tr>\n",
       "    <tr>\n",
       "      <th>Fall</th>\n",
       "      <td>24</td>\n",
       "      <td>166</td>\n",
       "    </tr>\n",
       "  </tbody>\n",
       "</table>\n",
       "</div>"
      ],
      "text/plain": [
       "Crime Solved       No     Yes\n",
       "Weapon                       \n",
       "Handgun        100546  216938\n",
       "Firearm         22578   24402\n",
       "Knife           20204   74758\n",
       "Blunt Object    15833   51504\n",
       "Unknown         14783   18409\n",
       "Shotgun          4682   26040\n",
       "Strangulation    3701    4409\n",
       "Rifle            3401   19946\n",
       "Fire             2034    4139\n",
       "Suffocation       990    2978\n",
       "Gun               882    1324\n",
       "Drowning          205     999\n",
       "Drugs             192    1396\n",
       "Explosives        149     388\n",
       "Poison             78     376\n",
       "Fall               24     166"
      ]
     },
     "execution_count": 269,
     "metadata": {},
     "output_type": "execute_result"
    }
   ],
   "source": [
    "pv_weapons = df.pivot_table(columns='Crime Solved', index='Weapon',values='Incident',aggfunc='count')\n",
    "pv_weapons.sort_values(by='No', ascending=0)"
   ]
  },
  {
   "cell_type": "code",
   "execution_count": null,
   "metadata": {
    "collapsed": false
   },
   "outputs": [],
   "source": []
  },
  {
   "cell_type": "code",
   "execution_count": 12,
   "metadata": {
    "collapsed": true
   },
   "outputs": [],
   "source": [
    "# Removing Record ID from the data set\n",
    "#data_1=df.drop(['Record ID','Agency Code','Agency Name','Agency Type','Incident','Record Source'], 1)"
   ]
  },
  {
   "cell_type": "code",
   "execution_count": 62,
   "metadata": {
    "collapsed": false
   },
   "outputs": [],
   "source": [
    "#Review the distribution of the categorial features\n",
    "#data_1.describe(include=['O'])"
   ]
  },
  {
   "cell_type": "code",
   "execution_count": 63,
   "metadata": {
    "collapsed": false
   },
   "outputs": [],
   "source": [
    "#df.head(2)"
   ]
  },
  {
   "cell_type": "code",
   "execution_count": null,
   "metadata": {
    "collapsed": true
   },
   "outputs": [],
   "source": []
  },
  {
   "cell_type": "code",
   "execution_count": 58,
   "metadata": {
    "collapsed": false
   },
   "outputs": [
    {
     "data": {
      "text/html": [
       "<div>\n",
       "<table border=\"1\" class=\"dataframe\">\n",
       "  <thead>\n",
       "    <tr style=\"text-align: right;\">\n",
       "      <th></th>\n",
       "      <th>A</th>\n",
       "      <th>B</th>\n",
       "      <th>C</th>\n",
       "      <th>D</th>\n",
       "    </tr>\n",
       "  </thead>\n",
       "  <tbody>\n",
       "    <tr>\n",
       "      <th>aaa</th>\n",
       "      <td>1.037733</td>\n",
       "      <td>0.176161</td>\n",
       "      <td>1.911137</td>\n",
       "      <td>0.624670</td>\n",
       "    </tr>\n",
       "    <tr>\n",
       "      <th>bbb</th>\n",
       "      <td>1.674787</td>\n",
       "      <td>0.997205</td>\n",
       "      <td>0.439444</td>\n",
       "      <td>0.114430</td>\n",
       "    </tr>\n",
       "    <tr>\n",
       "      <th>ccc</th>\n",
       "      <td>0.302218</td>\n",
       "      <td>0.259476</td>\n",
       "      <td>0.904315</td>\n",
       "      <td>1.367847</td>\n",
       "    </tr>\n",
       "    <tr>\n",
       "      <th>ddd</th>\n",
       "      <td>0.795313</td>\n",
       "      <td>0.709320</td>\n",
       "      <td>1.356714</td>\n",
       "      <td>1.240137</td>\n",
       "    </tr>\n",
       "    <tr>\n",
       "      <th>eee</th>\n",
       "      <td>0.005042</td>\n",
       "      <td>2.283497</td>\n",
       "      <td>0.520864</td>\n",
       "      <td>0.936344</td>\n",
       "    </tr>\n",
       "  </tbody>\n",
       "</table>\n",
       "</div>"
      ],
      "text/plain": [
       "            A         B         C         D\n",
       "aaa  1.037733  0.176161  1.911137  0.624670\n",
       "bbb  1.674787  0.997205  0.439444  0.114430\n",
       "ccc  0.302218  0.259476  0.904315  1.367847\n",
       "ddd  0.795313  0.709320  1.356714  1.240137\n",
       "eee  0.005042  2.283497  0.520864  0.936344"
      ]
     },
     "execution_count": 58,
     "metadata": {},
     "output_type": "execute_result"
    }
   ],
   "source": [
    "#process_df = df\n",
    "#process_df.head()"
   ]
  },
  {
   "cell_type": "code",
   "execution_count": 59,
   "metadata": {
    "collapsed": false
   },
   "outputs": [
    {
     "data": {
      "text/html": [
       "<div>\n",
       "<table border=\"1\" class=\"dataframe\">\n",
       "  <thead>\n",
       "    <tr style=\"text-align: right;\">\n",
       "      <th></th>\n",
       "      <th>A</th>\n",
       "      <th>B</th>\n",
       "      <th>C</th>\n",
       "      <th>D</th>\n",
       "      <th>perp Sex Map To Num</th>\n",
       "    </tr>\n",
       "  </thead>\n",
       "  <tbody>\n",
       "    <tr>\n",
       "      <th>aaa</th>\n",
       "      <td>1.037733</td>\n",
       "      <td>0.176161</td>\n",
       "      <td>1.911137</td>\n",
       "      <td>0.62467</td>\n",
       "      <td>1.0</td>\n",
       "    </tr>\n",
       "    <tr>\n",
       "      <th>bbb</th>\n",
       "      <td>1.674787</td>\n",
       "      <td>0.997205</td>\n",
       "      <td>0.439444</td>\n",
       "      <td>0.11443</td>\n",
       "      <td>1.0</td>\n",
       "    </tr>\n",
       "  </tbody>\n",
       "</table>\n",
       "</div>"
      ],
      "text/plain": [
       "            A         B         C        D  perp Sex Map To Num\n",
       "aaa  1.037733  0.176161  1.911137  0.62467                  1.0\n",
       "bbb  1.674787  0.997205  0.439444  0.11443                  1.0"
      ]
     },
     "execution_count": 59,
     "metadata": {},
     "output_type": "execute_result"
    }
   ],
   "source": [
    "\n",
    "#process_df['perp Sex Map To Num'] = pd.Series(1.0 , index=process_df.index)\n",
    "p#rocess_df.head(2)"
   ]
  },
  {
   "cell_type": "code",
   "execution_count": 61,
   "metadata": {
    "collapsed": false
   },
   "outputs": [],
   "source": [
    "#process_df['perp Sex Map To Num'][process_df['Perpetrator Sex'] == \"Male\"] = 0.0\n",
    "#process_df.head()\n",
    "\n",
    "#  d.sales[d.sales==24] = 100"
   ]
  },
  {
   "cell_type": "code",
   "execution_count": 29,
   "metadata": {
    "collapsed": false,
    "scrolled": false
   },
   "outputs": [
    {
     "data": {
      "text/plain": [
       "array(['Blunt Object', 'Strangulation', 'Unknown', 'Rifle', 'Knife',\n",
       "       'Firearm', 'Shotgun', 'Fall', 'Handgun', 'Drowning', 'Suffocation',\n",
       "       'Explosives', 'Fire', 'Drugs', 'Gun', 'Poison'], dtype=object)"
      ]
     },
     "execution_count": 29,
     "metadata": {},
     "output_type": "execute_result"
    }
   ],
   "source": [
    "#process_df.Weapon.unique()"
   ]
  },
  {
   "cell_type": "code",
   "execution_count": 85,
   "metadata": {
    "collapsed": false
   },
   "outputs": [
    {
     "name": "stderr",
     "output_type": "stream",
     "text": [
      "C:\\Users\\Namrata\\.spyder\\lib\\site-packages\\sklearn\\cross_validation.py:44: DeprecationWarning: This module was deprecated in version 0.18 in favor of the model_selection module into which all the refactored classes and functions are moved. Also note that the interface of the new CV iterators are different from that of this module. This module will be removed in 0.20.\n",
      "  \"This module will be removed in 0.20.\", DeprecationWarning)\n"
     ]
    }
   ],
   "source": [
    "import pandas as pd\n",
    "import numpy as np\n",
    "from sklearn import preprocessing\n",
    "import matplotlib.pyplot as plt \n",
    "plt.rc(\"font\", size=14)\n",
    "from sklearn.linear_model import LogisticRegression\n",
    "from sklearn.cross_validation import train_test_split\n",
    "import seaborn as sns\n",
    "sns.set(style=\"white\")\n",
    "sns.set(style=\"whitegrid\", color_codes=True)"
   ]
  },
  {
   "cell_type": "code",
   "execution_count": 180,
   "metadata": {
    "collapsed": false
   },
   "outputs": [
    {
     "ename": "IndexError",
     "evalue": "index 12 is out of bounds for axis 0 with size 12",
     "output_type": "error",
     "traceback": [
      "\u001b[0;31m---------------------------------------------------------------------------\u001b[0m",
      "\u001b[0;31mIndexError\u001b[0m                                Traceback (most recent call last)",
      "\u001b[0;32m<ipython-input-180-955cdce806eb>\u001b[0m in \u001b[0;36m<module>\u001b[0;34m()\u001b[0m\n\u001b[0;32m----> 1\u001b[0;31m \u001b[0mdf\u001b[0m\u001b[1;33m.\u001b[0m\u001b[0mdrop\u001b[0m\u001b[1;33m(\u001b[0m\u001b[0mdf\u001b[0m\u001b[1;33m.\u001b[0m\u001b[0mcolumns\u001b[0m\u001b[1;33m[\u001b[0m\u001b[1;33m[\u001b[0m\u001b[1;36m0\u001b[0m\u001b[1;33m,\u001b[0m\u001b[1;36m1\u001b[0m\u001b[1;33m,\u001b[0m\u001b[1;36m2\u001b[0m\u001b[1;33m,\u001b[0m\u001b[1;36m3\u001b[0m\u001b[1;33m,\u001b[0m\u001b[1;36m6\u001b[0m\u001b[1;33m,\u001b[0m\u001b[1;36m7\u001b[0m\u001b[1;33m,\u001b[0m\u001b[1;36m10\u001b[0m\u001b[1;33m,\u001b[0m\u001b[1;36m12\u001b[0m\u001b[1;33m,\u001b[0m\u001b[1;36m16\u001b[0m\u001b[1;33m,\u001b[0m\u001b[1;36m21\u001b[0m\u001b[1;33m,\u001b[0m\u001b[1;36m22\u001b[0m\u001b[1;33m,\u001b[0m\u001b[1;36m23\u001b[0m\u001b[1;33m]\u001b[0m\u001b[1;33m]\u001b[0m\u001b[1;33m,\u001b[0m \u001b[0maxis\u001b[0m\u001b[1;33m=\u001b[0m\u001b[1;36m1\u001b[0m\u001b[1;33m,\u001b[0m \u001b[0minplace\u001b[0m\u001b[1;33m=\u001b[0m\u001b[0mTrue\u001b[0m\u001b[1;33m)\u001b[0m\u001b[1;33m\u001b[0m\u001b[0m\n\u001b[0m\u001b[1;32m      2\u001b[0m \u001b[0mdf\u001b[0m\u001b[1;33m.\u001b[0m\u001b[0mhead\u001b[0m\u001b[1;33m(\u001b[0m\u001b[1;33m)\u001b[0m\u001b[1;33m\u001b[0m\u001b[0m\n",
      "\u001b[0;32mC:\\Users\\Namrata\\.spyder\\lib\\site-packages\\pandas\\indexes\\base.pyc\u001b[0m in \u001b[0;36m__getitem__\u001b[0;34m(self, key)\u001b[0m\n\u001b[1;32m   1432\u001b[0m \u001b[1;33m\u001b[0m\u001b[0m\n\u001b[1;32m   1433\u001b[0m         \u001b[0mkey\u001b[0m \u001b[1;33m=\u001b[0m \u001b[0m_values_from_object\u001b[0m\u001b[1;33m(\u001b[0m\u001b[0mkey\u001b[0m\u001b[1;33m)\u001b[0m\u001b[1;33m\u001b[0m\u001b[0m\n\u001b[0;32m-> 1434\u001b[0;31m         \u001b[0mresult\u001b[0m \u001b[1;33m=\u001b[0m \u001b[0mgetitem\u001b[0m\u001b[1;33m(\u001b[0m\u001b[0mkey\u001b[0m\u001b[1;33m)\u001b[0m\u001b[1;33m\u001b[0m\u001b[0m\n\u001b[0m\u001b[1;32m   1435\u001b[0m         \u001b[1;32mif\u001b[0m \u001b[1;32mnot\u001b[0m \u001b[0mis_scalar\u001b[0m\u001b[1;33m(\u001b[0m\u001b[0mresult\u001b[0m\u001b[1;33m)\u001b[0m\u001b[1;33m:\u001b[0m\u001b[1;33m\u001b[0m\u001b[0m\n\u001b[1;32m   1436\u001b[0m             \u001b[1;32mreturn\u001b[0m \u001b[0mpromote\u001b[0m\u001b[1;33m(\u001b[0m\u001b[0mresult\u001b[0m\u001b[1;33m)\u001b[0m\u001b[1;33m\u001b[0m\u001b[0m\n",
      "\u001b[0;31mIndexError\u001b[0m: index 12 is out of bounds for axis 0 with size 12"
     ]
    }
   ],
   "source": [
    "df.drop(df.columns[[0,1,2,3,6,7,10,12,16,21,22,23]], axis=1, inplace=True)\n",
    "df.head()"
   ]
  },
  {
   "cell_type": "code",
   "execution_count": 181,
   "metadata": {
    "collapsed": false
   },
   "outputs": [],
   "source": [
    "data2 = pd.get_dummies(data, columns = [ 'Victim Sex', 'Victim Race', 'Victim Ethnicity', 'Perpetrator Sex', 'Perpetrator Race', 'Perpetrator Ethnicity', 'Relationship'])"
   ]
  },
  {
   "cell_type": "code",
   "execution_count": null,
   "metadata": {
    "collapsed": true
   },
   "outputs": [],
   "source": []
  },
  {
   "cell_type": "code",
   "execution_count": 182,
   "metadata": {
    "collapsed": false
   },
   "outputs": [
    {
     "data": {
      "text/html": [
       "<div>\n",
       "<table border=\"1\" class=\"dataframe\">\n",
       "  <thead>\n",
       "    <tr style=\"text-align: right;\">\n",
       "      <th></th>\n",
       "      <th>Victim Count</th>\n",
       "      <th>Perpetrator Count</th>\n",
       "      <th>Record Source</th>\n",
       "      <th>perp Sex Map To Num</th>\n",
       "      <th>Victim Sex_Female</th>\n",
       "      <th>Victim Sex_Male</th>\n",
       "      <th>Victim Sex_Unknown</th>\n",
       "      <th>Victim Race_Asian/Pacific Islander</th>\n",
       "      <th>Victim Race_Black</th>\n",
       "      <th>Victim Race_Native American/Alaska Native</th>\n",
       "      <th>...</th>\n",
       "      <th>Relationship_Neighbor</th>\n",
       "      <th>Relationship_Sister</th>\n",
       "      <th>Relationship_Son</th>\n",
       "      <th>Relationship_Stepdaughter</th>\n",
       "      <th>Relationship_Stepfather</th>\n",
       "      <th>Relationship_Stepmother</th>\n",
       "      <th>Relationship_Stepson</th>\n",
       "      <th>Relationship_Stranger</th>\n",
       "      <th>Relationship_Unknown</th>\n",
       "      <th>Relationship_Wife</th>\n",
       "    </tr>\n",
       "  </thead>\n",
       "  <tbody>\n",
       "    <tr>\n",
       "      <th>0</th>\n",
       "      <td>0</td>\n",
       "      <td>0</td>\n",
       "      <td>FBI</td>\n",
       "      <td>0.0</td>\n",
       "      <td>0</td>\n",
       "      <td>1</td>\n",
       "      <td>0</td>\n",
       "      <td>0</td>\n",
       "      <td>0</td>\n",
       "      <td>1</td>\n",
       "      <td>...</td>\n",
       "      <td>0</td>\n",
       "      <td>0</td>\n",
       "      <td>0</td>\n",
       "      <td>0</td>\n",
       "      <td>0</td>\n",
       "      <td>0</td>\n",
       "      <td>0</td>\n",
       "      <td>0</td>\n",
       "      <td>0</td>\n",
       "      <td>0</td>\n",
       "    </tr>\n",
       "    <tr>\n",
       "      <th>1</th>\n",
       "      <td>0</td>\n",
       "      <td>0</td>\n",
       "      <td>FBI</td>\n",
       "      <td>0.0</td>\n",
       "      <td>0</td>\n",
       "      <td>1</td>\n",
       "      <td>0</td>\n",
       "      <td>0</td>\n",
       "      <td>0</td>\n",
       "      <td>0</td>\n",
       "      <td>...</td>\n",
       "      <td>0</td>\n",
       "      <td>0</td>\n",
       "      <td>0</td>\n",
       "      <td>0</td>\n",
       "      <td>0</td>\n",
       "      <td>0</td>\n",
       "      <td>0</td>\n",
       "      <td>0</td>\n",
       "      <td>0</td>\n",
       "      <td>0</td>\n",
       "    </tr>\n",
       "    <tr>\n",
       "      <th>2</th>\n",
       "      <td>0</td>\n",
       "      <td>0</td>\n",
       "      <td>FBI</td>\n",
       "      <td>1.0</td>\n",
       "      <td>1</td>\n",
       "      <td>0</td>\n",
       "      <td>0</td>\n",
       "      <td>0</td>\n",
       "      <td>0</td>\n",
       "      <td>1</td>\n",
       "      <td>...</td>\n",
       "      <td>0</td>\n",
       "      <td>0</td>\n",
       "      <td>0</td>\n",
       "      <td>0</td>\n",
       "      <td>0</td>\n",
       "      <td>0</td>\n",
       "      <td>0</td>\n",
       "      <td>0</td>\n",
       "      <td>1</td>\n",
       "      <td>0</td>\n",
       "    </tr>\n",
       "    <tr>\n",
       "      <th>3</th>\n",
       "      <td>0</td>\n",
       "      <td>0</td>\n",
       "      <td>FBI</td>\n",
       "      <td>0.0</td>\n",
       "      <td>0</td>\n",
       "      <td>1</td>\n",
       "      <td>0</td>\n",
       "      <td>0</td>\n",
       "      <td>0</td>\n",
       "      <td>0</td>\n",
       "      <td>...</td>\n",
       "      <td>0</td>\n",
       "      <td>0</td>\n",
       "      <td>0</td>\n",
       "      <td>0</td>\n",
       "      <td>0</td>\n",
       "      <td>0</td>\n",
       "      <td>0</td>\n",
       "      <td>0</td>\n",
       "      <td>0</td>\n",
       "      <td>0</td>\n",
       "    </tr>\n",
       "    <tr>\n",
       "      <th>4</th>\n",
       "      <td>0</td>\n",
       "      <td>1</td>\n",
       "      <td>FBI</td>\n",
       "      <td>1.0</td>\n",
       "      <td>1</td>\n",
       "      <td>0</td>\n",
       "      <td>0</td>\n",
       "      <td>0</td>\n",
       "      <td>0</td>\n",
       "      <td>1</td>\n",
       "      <td>...</td>\n",
       "      <td>0</td>\n",
       "      <td>0</td>\n",
       "      <td>0</td>\n",
       "      <td>0</td>\n",
       "      <td>0</td>\n",
       "      <td>0</td>\n",
       "      <td>0</td>\n",
       "      <td>0</td>\n",
       "      <td>1</td>\n",
       "      <td>0</td>\n",
       "    </tr>\n",
       "  </tbody>\n",
       "</table>\n",
       "<p>5 rows × 54 columns</p>\n",
       "</div>"
      ],
      "text/plain": [
       "   Victim Count  Perpetrator Count Record Source  perp Sex Map To Num  \\\n",
       "0             0                  0           FBI                  0.0   \n",
       "1             0                  0           FBI                  0.0   \n",
       "2             0                  0           FBI                  1.0   \n",
       "3             0                  0           FBI                  0.0   \n",
       "4             0                  1           FBI                  1.0   \n",
       "\n",
       "   Victim Sex_Female  Victim Sex_Male  Victim Sex_Unknown  \\\n",
       "0                  0                1                   0   \n",
       "1                  0                1                   0   \n",
       "2                  1                0                   0   \n",
       "3                  0                1                   0   \n",
       "4                  1                0                   0   \n",
       "\n",
       "   Victim Race_Asian/Pacific Islander  Victim Race_Black  \\\n",
       "0                                   0                  0   \n",
       "1                                   0                  0   \n",
       "2                                   0                  0   \n",
       "3                                   0                  0   \n",
       "4                                   0                  0   \n",
       "\n",
       "   Victim Race_Native American/Alaska Native        ...          \\\n",
       "0                                          1        ...           \n",
       "1                                          0        ...           \n",
       "2                                          1        ...           \n",
       "3                                          0        ...           \n",
       "4                                          1        ...           \n",
       "\n",
       "   Relationship_Neighbor  Relationship_Sister  Relationship_Son  \\\n",
       "0                      0                    0                 0   \n",
       "1                      0                    0                 0   \n",
       "2                      0                    0                 0   \n",
       "3                      0                    0                 0   \n",
       "4                      0                    0                 0   \n",
       "\n",
       "   Relationship_Stepdaughter  Relationship_Stepfather  \\\n",
       "0                          0                        0   \n",
       "1                          0                        0   \n",
       "2                          0                        0   \n",
       "3                          0                        0   \n",
       "4                          0                        0   \n",
       "\n",
       "   Relationship_Stepmother  Relationship_Stepson  Relationship_Stranger  \\\n",
       "0                        0                     0                      0   \n",
       "1                        0                     0                      0   \n",
       "2                        0                     0                      0   \n",
       "3                        0                     0                      0   \n",
       "4                        0                     0                      0   \n",
       "\n",
       "   Relationship_Unknown  Relationship_Wife  \n",
       "0                     0                  0  \n",
       "1                     0                  0  \n",
       "2                     1                  0  \n",
       "3                     0                  0  \n",
       "4                     1                  0  \n",
       "\n",
       "[5 rows x 54 columns]"
      ]
     },
     "execution_count": 182,
     "metadata": {},
     "output_type": "execute_result"
    }
   ],
   "source": [
    "data2.drop(data2.columns[[0,1,2,3,4,5,6,7,8,9,10,11,12,13]], axis=1, inplace=True)\n",
    "data2.head()"
   ]
  },
  {
   "cell_type": "code",
   "execution_count": 183,
   "metadata": {
    "collapsed": false
   },
   "outputs": [
    {
     "data": {
      "text/plain": [
       "Index([u'Victim Count', u'Perpetrator Count', u'Record Source',\n",
       "       u'perp Sex Map To Num', u'Victim Sex_Female', u'Victim Sex_Male',\n",
       "       u'Victim Sex_Unknown', u'Victim Race_Asian/Pacific Islander',\n",
       "       u'Victim Race_Black', u'Victim Race_Native American/Alaska Native',\n",
       "       u'Victim Race_Unknown', u'Victim Race_White',\n",
       "       u'Victim Ethnicity_Hispanic', u'Victim Ethnicity_Not Hispanic',\n",
       "       u'Victim Ethnicity_Unknown', u'Perpetrator Sex_Female',\n",
       "       u'Perpetrator Sex_Male', u'Perpetrator Sex_Unknown',\n",
       "       u'Perpetrator Race_Asian/Pacific Islander', u'Perpetrator Race_Black',\n",
       "       u'Perpetrator Race_Native American/Alaska Native',\n",
       "       u'Perpetrator Race_Unknown', u'Perpetrator Race_White',\n",
       "       u'Perpetrator Ethnicity_Hispanic',\n",
       "       u'Perpetrator Ethnicity_Not Hispanic', u'Perpetrator Ethnicity_Unknown',\n",
       "       u'Relationship_Acquaintance', u'Relationship_Boyfriend',\n",
       "       u'Relationship_Boyfriend/Girlfriend', u'Relationship_Brother',\n",
       "       u'Relationship_Common-Law Husband', u'Relationship_Common-Law Wife',\n",
       "       u'Relationship_Daughter', u'Relationship_Employee',\n",
       "       u'Relationship_Employer', u'Relationship_Ex-Husband',\n",
       "       u'Relationship_Ex-Wife', u'Relationship_Family', u'Relationship_Father',\n",
       "       u'Relationship_Friend', u'Relationship_Girlfriend',\n",
       "       u'Relationship_Husband', u'Relationship_In-Law', u'Relationship_Mother',\n",
       "       u'Relationship_Neighbor', u'Relationship_Sister', u'Relationship_Son',\n",
       "       u'Relationship_Stepdaughter', u'Relationship_Stepfather',\n",
       "       u'Relationship_Stepmother', u'Relationship_Stepson',\n",
       "       u'Relationship_Stranger', u'Relationship_Unknown',\n",
       "       u'Relationship_Wife'],\n",
       "      dtype='object')"
      ]
     },
     "execution_count": 183,
     "metadata": {},
     "output_type": "execute_result"
    }
   ],
   "source": [
    "data2.columns"
   ]
  },
  {
   "cell_type": "code",
   "execution_count": 184,
   "metadata": {
    "collapsed": false
   },
   "outputs": [
    {
     "data": {
      "text/html": [
       "<div>\n",
       "<table border=\"1\" class=\"dataframe\">\n",
       "  <thead>\n",
       "    <tr style=\"text-align: right;\">\n",
       "      <th></th>\n",
       "      <th>Victim Sex_Female</th>\n",
       "      <th>Victim Sex_Male</th>\n",
       "      <th>Victim Sex_Unknown</th>\n",
       "      <th>Victim Race_Asian/Pacific Islander</th>\n",
       "      <th>Victim Race_Black</th>\n",
       "      <th>Victim Race_Native American/Alaska Native</th>\n",
       "      <th>Victim Race_Unknown</th>\n",
       "      <th>Victim Race_White</th>\n",
       "      <th>Victim Ethnicity_Hispanic</th>\n",
       "      <th>Victim Ethnicity_Not Hispanic</th>\n",
       "      <th>...</th>\n",
       "      <th>Relationship_Neighbor</th>\n",
       "      <th>Relationship_Sister</th>\n",
       "      <th>Relationship_Son</th>\n",
       "      <th>Relationship_Stepdaughter</th>\n",
       "      <th>Relationship_Stepfather</th>\n",
       "      <th>Relationship_Stepmother</th>\n",
       "      <th>Relationship_Stepson</th>\n",
       "      <th>Relationship_Stranger</th>\n",
       "      <th>Relationship_Unknown</th>\n",
       "      <th>Relationship_Wife</th>\n",
       "    </tr>\n",
       "  </thead>\n",
       "  <tbody>\n",
       "    <tr>\n",
       "      <th>0</th>\n",
       "      <td>0</td>\n",
       "      <td>1</td>\n",
       "      <td>0</td>\n",
       "      <td>0</td>\n",
       "      <td>0</td>\n",
       "      <td>1</td>\n",
       "      <td>0</td>\n",
       "      <td>0</td>\n",
       "      <td>0</td>\n",
       "      <td>0</td>\n",
       "      <td>...</td>\n",
       "      <td>0</td>\n",
       "      <td>0</td>\n",
       "      <td>0</td>\n",
       "      <td>0</td>\n",
       "      <td>0</td>\n",
       "      <td>0</td>\n",
       "      <td>0</td>\n",
       "      <td>0</td>\n",
       "      <td>0</td>\n",
       "      <td>0</td>\n",
       "    </tr>\n",
       "    <tr>\n",
       "      <th>1</th>\n",
       "      <td>0</td>\n",
       "      <td>1</td>\n",
       "      <td>0</td>\n",
       "      <td>0</td>\n",
       "      <td>0</td>\n",
       "      <td>0</td>\n",
       "      <td>0</td>\n",
       "      <td>1</td>\n",
       "      <td>0</td>\n",
       "      <td>0</td>\n",
       "      <td>...</td>\n",
       "      <td>0</td>\n",
       "      <td>0</td>\n",
       "      <td>0</td>\n",
       "      <td>0</td>\n",
       "      <td>0</td>\n",
       "      <td>0</td>\n",
       "      <td>0</td>\n",
       "      <td>0</td>\n",
       "      <td>0</td>\n",
       "      <td>0</td>\n",
       "    </tr>\n",
       "  </tbody>\n",
       "</table>\n",
       "<p>2 rows × 50 columns</p>\n",
       "</div>"
      ],
      "text/plain": [
       "   Victim Sex_Female  Victim Sex_Male  Victim Sex_Unknown  \\\n",
       "0                  0                1                   0   \n",
       "1                  0                1                   0   \n",
       "\n",
       "   Victim Race_Asian/Pacific Islander  Victim Race_Black  \\\n",
       "0                                   0                  0   \n",
       "1                                   0                  0   \n",
       "\n",
       "   Victim Race_Native American/Alaska Native  Victim Race_Unknown  \\\n",
       "0                                          1                    0   \n",
       "1                                          0                    0   \n",
       "\n",
       "   Victim Race_White  Victim Ethnicity_Hispanic  \\\n",
       "0                  0                          0   \n",
       "1                  1                          0   \n",
       "\n",
       "   Victim Ethnicity_Not Hispanic        ...          Relationship_Neighbor  \\\n",
       "0                              0        ...                              0   \n",
       "1                              0        ...                              0   \n",
       "\n",
       "   Relationship_Sister  Relationship_Son  Relationship_Stepdaughter  \\\n",
       "0                    0                 0                          0   \n",
       "1                    0                 0                          0   \n",
       "\n",
       "   Relationship_Stepfather  Relationship_Stepmother  Relationship_Stepson  \\\n",
       "0                        0                        0                     0   \n",
       "1                        0                        0                     0   \n",
       "\n",
       "   Relationship_Stranger  Relationship_Unknown  Relationship_Wife  \n",
       "0                      0                     0                  0  \n",
       "1                      0                     0                  0  \n",
       "\n",
       "[2 rows x 50 columns]"
      ]
     },
     "execution_count": 184,
     "metadata": {},
     "output_type": "execute_result"
    }
   ],
   "source": [
    "data2.drop(data2.columns[[0,1,2,3]], axis=1, inplace=True)\n",
    "data2.head(2)"
   ]
  },
  {
   "cell_type": "code",
   "execution_count": 185,
   "metadata": {
    "collapsed": false
   },
   "outputs": [
    {
     "data": {
      "text/plain": [
       "Index([u'Victim Sex_Female', u'Victim Sex_Male', u'Victim Sex_Unknown',\n",
       "       u'Victim Race_Asian/Pacific Islander', u'Victim Race_Black',\n",
       "       u'Victim Race_Native American/Alaska Native', u'Victim Race_Unknown',\n",
       "       u'Victim Race_White', u'Victim Ethnicity_Hispanic',\n",
       "       u'Victim Ethnicity_Not Hispanic', u'Victim Ethnicity_Unknown',\n",
       "       u'Perpetrator Sex_Female', u'Perpetrator Sex_Male',\n",
       "       u'Perpetrator Sex_Unknown', u'Perpetrator Race_Asian/Pacific Islander',\n",
       "       u'Perpetrator Race_Black',\n",
       "       u'Perpetrator Race_Native American/Alaska Native',\n",
       "       u'Perpetrator Race_Unknown', u'Perpetrator Race_White',\n",
       "       u'Perpetrator Ethnicity_Hispanic',\n",
       "       u'Perpetrator Ethnicity_Not Hispanic', u'Perpetrator Ethnicity_Unknown',\n",
       "       u'Relationship_Acquaintance', u'Relationship_Boyfriend',\n",
       "       u'Relationship_Boyfriend/Girlfriend', u'Relationship_Brother',\n",
       "       u'Relationship_Common-Law Husband', u'Relationship_Common-Law Wife',\n",
       "       u'Relationship_Daughter', u'Relationship_Employee',\n",
       "       u'Relationship_Employer', u'Relationship_Ex-Husband',\n",
       "       u'Relationship_Ex-Wife', u'Relationship_Family', u'Relationship_Father',\n",
       "       u'Relationship_Friend', u'Relationship_Girlfriend',\n",
       "       u'Relationship_Husband', u'Relationship_In-Law', u'Relationship_Mother',\n",
       "       u'Relationship_Neighbor', u'Relationship_Sister', u'Relationship_Son',\n",
       "       u'Relationship_Stepdaughter', u'Relationship_Stepfather',\n",
       "       u'Relationship_Stepmother', u'Relationship_Stepson',\n",
       "       u'Relationship_Stranger', u'Relationship_Unknown',\n",
       "       u'Relationship_Wife'],\n",
       "      dtype='object')"
      ]
     },
     "execution_count": 185,
     "metadata": {},
     "output_type": "execute_result"
    }
   ],
   "source": [
    "data2.columns"
   ]
  },
  {
   "cell_type": "code",
   "execution_count": 186,
   "metadata": {
    "collapsed": true
   },
   "outputs": [],
   "source": [
    "data2.drop(data2.columns[[17]], axis=1, inplace=True)"
   ]
  },
  {
   "cell_type": "code",
   "execution_count": 187,
   "metadata": {
    "collapsed": false
   },
   "outputs": [
    {
     "data": {
      "text/plain": [
       "Index([u'Victim Sex_Female', u'Victim Sex_Male', u'Victim Sex_Unknown',\n",
       "       u'Victim Race_Asian/Pacific Islander', u'Victim Race_Black',\n",
       "       u'Victim Race_Native American/Alaska Native', u'Victim Race_Unknown',\n",
       "       u'Victim Race_White', u'Victim Ethnicity_Hispanic',\n",
       "       u'Victim Ethnicity_Not Hispanic', u'Victim Ethnicity_Unknown',\n",
       "       u'Perpetrator Sex_Female', u'Perpetrator Sex_Male',\n",
       "       u'Perpetrator Sex_Unknown', u'Perpetrator Race_Asian/Pacific Islander',\n",
       "       u'Perpetrator Race_Black',\n",
       "       u'Perpetrator Race_Native American/Alaska Native',\n",
       "       u'Perpetrator Race_White', u'Perpetrator Ethnicity_Hispanic',\n",
       "       u'Perpetrator Ethnicity_Not Hispanic', u'Perpetrator Ethnicity_Unknown',\n",
       "       u'Relationship_Acquaintance', u'Relationship_Boyfriend',\n",
       "       u'Relationship_Boyfriend/Girlfriend', u'Relationship_Brother',\n",
       "       u'Relationship_Common-Law Husband', u'Relationship_Common-Law Wife',\n",
       "       u'Relationship_Daughter', u'Relationship_Employee',\n",
       "       u'Relationship_Employer', u'Relationship_Ex-Husband',\n",
       "       u'Relationship_Ex-Wife', u'Relationship_Family', u'Relationship_Father',\n",
       "       u'Relationship_Friend', u'Relationship_Girlfriend',\n",
       "       u'Relationship_Husband', u'Relationship_In-Law', u'Relationship_Mother',\n",
       "       u'Relationship_Neighbor', u'Relationship_Sister', u'Relationship_Son',\n",
       "       u'Relationship_Stepdaughter', u'Relationship_Stepfather',\n",
       "       u'Relationship_Stepmother', u'Relationship_Stepson',\n",
       "       u'Relationship_Stranger', u'Relationship_Unknown',\n",
       "       u'Relationship_Wife'],\n",
       "      dtype='object')"
      ]
     },
     "execution_count": 187,
     "metadata": {},
     "output_type": "execute_result"
    }
   ],
   "source": [
    "data2.columns\n"
   ]
  },
  {
   "cell_type": "code",
   "execution_count": 188,
   "metadata": {
    "collapsed": true
   },
   "outputs": [],
   "source": [
    "data2=data2.rename(columns = {'Perpetrator Race_Asian/Pacific Islander':'y' , 'Perpetrator Race_Black':'y1','Perpetrator Race_Native American/Alaska Native':'y2','Perpetrator Race_White':'y3'})"
   ]
  },
  {
   "cell_type": "code",
   "execution_count": null,
   "metadata": {
    "collapsed": true
   },
   "outputs": [],
   "source": []
  },
  {
   "cell_type": "code",
   "execution_count": null,
   "metadata": {
    "collapsed": true
   },
   "outputs": [],
   "source": []
  },
  {
   "cell_type": "code",
   "execution_count": 189,
   "metadata": {
    "collapsed": false
   },
   "outputs": [
    {
     "data": {
      "text/plain": [
       "Index([u'Victim Sex_Female', u'Victim Sex_Male', u'Victim Sex_Unknown',\n",
       "       u'Victim Race_Asian/Pacific Islander', u'Victim Race_Black',\n",
       "       u'Victim Race_Native American/Alaska Native', u'Victim Race_Unknown',\n",
       "       u'Victim Race_White', u'Victim Ethnicity_Hispanic',\n",
       "       u'Victim Ethnicity_Not Hispanic', u'Victim Ethnicity_Unknown',\n",
       "       u'Perpetrator Sex_Female', u'Perpetrator Sex_Male',\n",
       "       u'Perpetrator Sex_Unknown', u'y', u'y1', u'y2', u'y3',\n",
       "       u'Perpetrator Ethnicity_Hispanic',\n",
       "       u'Perpetrator Ethnicity_Not Hispanic', u'Perpetrator Ethnicity_Unknown',\n",
       "       u'Relationship_Acquaintance', u'Relationship_Boyfriend',\n",
       "       u'Relationship_Boyfriend/Girlfriend', u'Relationship_Brother',\n",
       "       u'Relationship_Common-Law Husband', u'Relationship_Common-Law Wife',\n",
       "       u'Relationship_Daughter', u'Relationship_Employee',\n",
       "       u'Relationship_Employer', u'Relationship_Ex-Husband',\n",
       "       u'Relationship_Ex-Wife', u'Relationship_Family', u'Relationship_Father',\n",
       "       u'Relationship_Friend', u'Relationship_Girlfriend',\n",
       "       u'Relationship_Husband', u'Relationship_In-Law', u'Relationship_Mother',\n",
       "       u'Relationship_Neighbor', u'Relationship_Sister', u'Relationship_Son',\n",
       "       u'Relationship_Stepdaughter', u'Relationship_Stepfather',\n",
       "       u'Relationship_Stepmother', u'Relationship_Stepson',\n",
       "       u'Relationship_Stranger', u'Relationship_Unknown',\n",
       "       u'Relationship_Wife'],\n",
       "      dtype='object')"
      ]
     },
     "execution_count": 189,
     "metadata": {},
     "output_type": "execute_result"
    }
   ],
   "source": [
    "data2.columns"
   ]
  },
  {
   "cell_type": "code",
   "execution_count": 190,
   "metadata": {
    "collapsed": false
   },
   "outputs": [
    {
     "data": {
      "image/png": "[encoded data removed]",
      "text/plain": [
       "<matplotlib.figure.Figure at 0x1b5fd0f0>"
      ]
     },
     "metadata": {},
     "output_type": "display_data"
    }
   ],
   "source": [
    "sns.heatmap(data2.corr())\n",
    "plt.show()"
   ]
  },
  {
   "cell_type": "code",
   "execution_count": 191,
   "metadata": {
    "collapsed": false,
    "scrolled": true
   },
   "outputs": [],
   "source": [
    "X = data2.iloc[:,1:]\n",
    "y = data2.iloc[:,0]\n",
    "X_train, X_test, y_train, y_test = train_test_split(X, y, random_state=0)"
   ]
  },
  {
   "cell_type": "code",
   "execution_count": 192,
   "metadata": {
    "collapsed": false
   },
   "outputs": [
    {
     "data": {
      "text/plain": [
       "(478840, 48)"
      ]
     },
     "execution_count": 192,
     "metadata": {},
     "output_type": "execute_result"
    }
   ],
   "source": [
    "X_train.shape\n"
   ]
  },
  {
   "cell_type": "code",
   "execution_count": 193,
   "metadata": {
    "collapsed": false
   },
   "outputs": [
    {
     "data": {
      "text/plain": [
       "LogisticRegression(C=1.0, class_weight=None, dual=False, fit_intercept=True,\n",
       "          intercept_scaling=1, max_iter=100, multi_class='ovr', n_jobs=1,\n",
       "          penalty='l2', random_state=0, solver='liblinear', tol=0.0001,\n",
       "          verbose=0, warm_start=False)"
      ]
     },
     "execution_count": 193,
     "metadata": {},
     "output_type": "execute_result"
    }
   ],
   "source": [
    "classifier = LogisticRegression(random_state=0)\n",
    "classifier.fit(X_train, y_train)"
   ]
  },
  {
   "cell_type": "code",
   "execution_count": 198,
   "metadata": {
    "collapsed": false
   },
   "outputs": [
    {
     "name": "stdout",
     "output_type": "stream",
     "text": [
      "[[123778      0]\n",
      " [     0  35836]]\n"
     ]
    }
   ],
   "source": [
    "y_pred = classifier.predict(X_test)\n",
    "from sklearn.metrics import confusion_matrix\n",
    "confusion_matrix = confusion_matrix(y_test, y_pred)\n",
    "print (confusion_matrix)\n"
   ]
  },
  {
   "cell_type": "code",
   "execution_count": 199,
   "metadata": {
    "collapsed": false
   },
   "outputs": [
    {
     "name": "stdout",
     "output_type": "stream",
     "text": [
      "Accuracy of logistic regression classifier on test set: 1.00\n"
     ]
    }
   ],
   "source": [
    "print('Accuracy of logistic regression classifier on test set: {:.2f}'.format(classifier.score(X_test, y_test)))"
   ]
  },
  {
   "cell_type": "code",
   "execution_count": 200,
   "metadata": {
    "collapsed": false,
    "scrolled": true
   },
   "outputs": [
    {
     "name": "stdout",
     "output_type": "stream",
     "text": [
      "1.0\n"
     ]
    }
   ],
   "source": [
    "from sklearn.metrics import r2_score\n",
    "print(r2_score(y_test, y_pred))"
   ]
  },
  {
   "cell_type": "code",
   "execution_count": null,
   "metadata": {
    "collapsed": false
   },
   "outputs": [],
   "source": [
    "\n"
   ]
  },
  {
   "cell_type": "code",
   "execution_count": 202,
   "metadata": {
    "collapsed": false
   },
   "outputs": [],
   "source": [
    "X = data2.iloc[:,1:]\n",
    "y1 = data2.iloc[:,0]\n",
    "X_train, X_test, y1_train, y1_test = train_test_split(X, y1, random_state=0)"
   ]
  },
  {
   "cell_type": "code",
   "execution_count": 209,
   "metadata": {
    "collapsed": false
   },
   "outputs": [
    {
     "data": {
      "text/plain": [
       "(159614, 48)"
      ]
     },
     "execution_count": 209,
     "metadata": {},
     "output_type": "execute_result"
    }
   ],
   "source": [
    "X_test.shape"
   ]
  },
  {
   "cell_type": "code",
   "execution_count": 208,
   "metadata": {
    "collapsed": false
   },
   "outputs": [
    {
     "data": {
      "text/plain": [
       "(478840L,)"
      ]
     },
     "execution_count": 208,
     "metadata": {},
     "output_type": "execute_result"
    }
   ],
   "source": [
    "y1_train.shape"
   ]
  },
  {
   "cell_type": "code",
   "execution_count": 204,
   "metadata": {
    "collapsed": false
   },
   "outputs": [
    {
     "data": {
      "text/plain": [
       "LogisticRegression(C=1.0, class_weight=None, dual=False, fit_intercept=True,\n",
       "          intercept_scaling=1, max_iter=100, multi_class='ovr', n_jobs=1,\n",
       "          penalty='l2', random_state=0, solver='liblinear', tol=0.0001,\n",
       "          verbose=0, warm_start=False)"
      ]
     },
     "execution_count": 204,
     "metadata": {},
     "output_type": "execute_result"
    }
   ],
   "source": [
    "classifier = LogisticRegression(random_state=0)\n",
    "classifier.fit(X_train, y_train)\n"
   ]
  },
  {
   "cell_type": "code",
   "execution_count": 206,
   "metadata": {
    "collapsed": false
   },
   "outputs": [
    {
     "name": "stdout",
     "output_type": "stream",
     "text": [
      "[[123778      0]\n",
      " [     0  35836]]\n"
     ]
    }
   ],
   "source": [
    "y1_pred = classifier.predict(X_test)\n",
    "from sklearn.metrics import confusion_matrix\n",
    "confusion_matrix = confusion_matrix(y1_test, y1_pred)\n",
    "print (confusion_matrix)\n"
   ]
  },
  {
   "cell_type": "code",
   "execution_count": 207,
   "metadata": {
    "collapsed": false
   },
   "outputs": [
    {
     "name": "stdout",
     "output_type": "stream",
     "text": [
      "1.0\n"
     ]
    }
   ],
   "source": [
    "from sklearn.metrics import r2_score\n",
    "print(r2_score(y1_test, y1_pred))"
   ]
  },
  {
   "cell_type": "code",
   "execution_count": null,
   "metadata": {
    "collapsed": false
   },
   "outputs": [],
   "source": []
  },
  {
   "cell_type": "code",
   "execution_count": null,
   "metadata": {
    "collapsed": false
   },
   "outputs": [],
   "source": []
  },
  {
   "cell_type": "code",
   "execution_count": null,
   "metadata": {
    "collapsed": false
   },
   "outputs": [],
   "source": []
  },
  {
   "cell_type": "code",
   "execution_count": null,
   "metadata": {
    "collapsed": true
   },
   "outputs": [],
   "source": []
  },
  {
   "cell_type": "code",
   "execution_count": null,
   "metadata": {
    "collapsed": true
   },
   "outputs": [],
   "source": []
  }
 ],
 "metadata": {
  "kernelspec": {
   "display_name": "Python 2",
   "language": "python",
   "name": "python2"
  },
  "language_info": {
   "codemirror_mode": {
    "name": "ipython",
    "version": 2
   },
   "file_extension": ".py",
   "mimetype": "text/x-python",
   "name": "python",
   "nbconvert_exporter": "python",
   "pygments_lexer": "ipython2",
   "version": "2.7.13"
  }
 },
 "nbformat": 4,
 "nbformat_minor": 2
}
